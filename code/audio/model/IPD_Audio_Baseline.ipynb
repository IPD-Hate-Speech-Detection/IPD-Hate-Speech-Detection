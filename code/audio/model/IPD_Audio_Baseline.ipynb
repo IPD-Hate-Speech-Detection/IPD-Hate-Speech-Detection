{
  "nbformat": 4,
  "nbformat_minor": 0,
  "metadata": {
    "colab": {
      "provenance": [],
      "collapsed_sections": [
        "79IMt5WP1w4-",
        "qQTRg6Bs3vA4",
        "a6p0Lrf04lA0",
        "NpanOJCV6ejC",
        "XCOlcRYF69hN",
        "J1vdmh5v7HIa",
        "h-dm2i2n6ikD",
        "SODzMBku6nGO",
        "_naobnwV6sqv",
        "TjKjId9m5cq1",
        "wCIcWdAy5nm1",
        "5HRznu3KGSRI",
        "WHwm1xw6GUSf"
      ]
    },
    "kernelspec": {
      "name": "python3",
      "display_name": "Python 3"
    },
    "language_info": {
      "name": "python"
    }
  },
  "cells": [
    {
      "cell_type": "markdown",
      "source": [
        "## Importing Dataset"
      ],
      "metadata": {
        "id": "79IMt5WP1w4-"
      }
    },
    {
      "cell_type": "code",
      "execution_count": null,
      "metadata": {
        "colab": {
          "base_uri": "https://localhost:8080/"
        },
        "id": "j2jo1uQO1wPE",
        "outputId": "c53f91bc-9e33-4170-b849-9e8f49689797"
      },
      "outputs": [
        {
          "output_type": "stream",
          "name": "stdout",
          "text": [
            "Mounted at /content/drive\n"
          ]
        }
      ],
      "source": [
        "from google.colab import drive\n",
        "drive.mount(\"/content/drive\")"
      ]
    },
    {
      "cell_type": "code",
      "source": [
        "import pandas as pd\n",
        "import numpy as np\n",
        "\n",
        "df = pd.read_csv('/content/drive/MyDrive/IPD/code/audio/wav2vecAndFeatureAndLabel.csv', index_col='Unnamed: 0')\n",
        "df.head()"
      ],
      "metadata": {
        "colab": {
          "base_uri": "https://localhost:8080/",
          "height": 255
        },
        "id": "Tx8sXRpV15P_",
        "outputId": "8b719c29-3cff-4bde-bcfe-8b91802758f5"
      },
      "execution_count": null,
      "outputs": [
        {
          "output_type": "execute_result",
          "data": {
            "text/plain": [
              "          0         1         2         3         4         5         6  \\\n",
              "0 -0.041823  0.002920 -0.044766 -0.057243  0.101603 -0.048774  0.040614   \n",
              "1  0.010185 -0.005375 -0.072192 -0.063968  0.116239 -0.105872  0.034761   \n",
              "2  0.009155 -0.010324 -0.122451 -0.074097  0.062079 -0.086227  0.039490   \n",
              "3 -0.011689 -0.053456 -0.128466 -0.106791  0.116320 -0.030688 -0.011577   \n",
              "4 -0.008956 -0.002147 -0.127113 -0.131215  0.116599 -0.099973  0.010518   \n",
              "\n",
              "          7         8         9  ...       772       773       774       775  \\\n",
              "0 -0.040836  0.059322 -0.216457  ...  0.257575  0.187818  0.088702  0.060642   \n",
              "1 -0.033816  0.098582 -0.233236  ...  0.138716  0.139052  0.068526  0.042545   \n",
              "2 -0.034247  0.107387 -0.223692  ...  0.072548  0.074697  0.037494  0.026806   \n",
              "3 -0.031152  0.161718 -0.101874  ...  0.166019  0.177654  0.066600  0.068555   \n",
              "4 -0.026963  0.098702 -0.129256  ...  0.117746  0.140863  0.076510  0.058947   \n",
              "\n",
              "           776          777       778         779         780  label  \n",
              "0  8825.233502  1323.673214  1.441300  -62.506859   98.441387    1.0  \n",
              "1  6412.378772  2409.543056  0.810636  -36.677607   88.585121    1.0  \n",
              "2  3655.643439  2759.555598  0.971251  -61.680579   97.244589    1.0  \n",
              "3  5721.109480  3701.307650  1.893939 -107.198889  106.638173    1.0  \n",
              "4  4075.818650  3445.456428  2.245509  -77.738639  107.043610    1.0  \n",
              "\n",
              "[5 rows x 782 columns]"
            ],
            "text/html": [
              "\n",
              "  <div id=\"df-149fc573-f038-4cc2-b301-899fe342a7f7\" class=\"colab-df-container\">\n",
              "    <div>\n",
              "<style scoped>\n",
              "    .dataframe tbody tr th:only-of-type {\n",
              "        vertical-align: middle;\n",
              "    }\n",
              "\n",
              "    .dataframe tbody tr th {\n",
              "        vertical-align: top;\n",
              "    }\n",
              "\n",
              "    .dataframe thead th {\n",
              "        text-align: right;\n",
              "    }\n",
              "</style>\n",
              "<table border=\"1\" class=\"dataframe\">\n",
              "  <thead>\n",
              "    <tr style=\"text-align: right;\">\n",
              "      <th></th>\n",
              "      <th>0</th>\n",
              "      <th>1</th>\n",
              "      <th>2</th>\n",
              "      <th>3</th>\n",
              "      <th>4</th>\n",
              "      <th>5</th>\n",
              "      <th>6</th>\n",
              "      <th>7</th>\n",
              "      <th>8</th>\n",
              "      <th>9</th>\n",
              "      <th>...</th>\n",
              "      <th>772</th>\n",
              "      <th>773</th>\n",
              "      <th>774</th>\n",
              "      <th>775</th>\n",
              "      <th>776</th>\n",
              "      <th>777</th>\n",
              "      <th>778</th>\n",
              "      <th>779</th>\n",
              "      <th>780</th>\n",
              "      <th>label</th>\n",
              "    </tr>\n",
              "  </thead>\n",
              "  <tbody>\n",
              "    <tr>\n",
              "      <th>0</th>\n",
              "      <td>-0.041823</td>\n",
              "      <td>0.002920</td>\n",
              "      <td>-0.044766</td>\n",
              "      <td>-0.057243</td>\n",
              "      <td>0.101603</td>\n",
              "      <td>-0.048774</td>\n",
              "      <td>0.040614</td>\n",
              "      <td>-0.040836</td>\n",
              "      <td>0.059322</td>\n",
              "      <td>-0.216457</td>\n",
              "      <td>...</td>\n",
              "      <td>0.257575</td>\n",
              "      <td>0.187818</td>\n",
              "      <td>0.088702</td>\n",
              "      <td>0.060642</td>\n",
              "      <td>8825.233502</td>\n",
              "      <td>1323.673214</td>\n",
              "      <td>1.441300</td>\n",
              "      <td>-62.506859</td>\n",
              "      <td>98.441387</td>\n",
              "      <td>1.0</td>\n",
              "    </tr>\n",
              "    <tr>\n",
              "      <th>1</th>\n",
              "      <td>0.010185</td>\n",
              "      <td>-0.005375</td>\n",
              "      <td>-0.072192</td>\n",
              "      <td>-0.063968</td>\n",
              "      <td>0.116239</td>\n",
              "      <td>-0.105872</td>\n",
              "      <td>0.034761</td>\n",
              "      <td>-0.033816</td>\n",
              "      <td>0.098582</td>\n",
              "      <td>-0.233236</td>\n",
              "      <td>...</td>\n",
              "      <td>0.138716</td>\n",
              "      <td>0.139052</td>\n",
              "      <td>0.068526</td>\n",
              "      <td>0.042545</td>\n",
              "      <td>6412.378772</td>\n",
              "      <td>2409.543056</td>\n",
              "      <td>0.810636</td>\n",
              "      <td>-36.677607</td>\n",
              "      <td>88.585121</td>\n",
              "      <td>1.0</td>\n",
              "    </tr>\n",
              "    <tr>\n",
              "      <th>2</th>\n",
              "      <td>0.009155</td>\n",
              "      <td>-0.010324</td>\n",
              "      <td>-0.122451</td>\n",
              "      <td>-0.074097</td>\n",
              "      <td>0.062079</td>\n",
              "      <td>-0.086227</td>\n",
              "      <td>0.039490</td>\n",
              "      <td>-0.034247</td>\n",
              "      <td>0.107387</td>\n",
              "      <td>-0.223692</td>\n",
              "      <td>...</td>\n",
              "      <td>0.072548</td>\n",
              "      <td>0.074697</td>\n",
              "      <td>0.037494</td>\n",
              "      <td>0.026806</td>\n",
              "      <td>3655.643439</td>\n",
              "      <td>2759.555598</td>\n",
              "      <td>0.971251</td>\n",
              "      <td>-61.680579</td>\n",
              "      <td>97.244589</td>\n",
              "      <td>1.0</td>\n",
              "    </tr>\n",
              "    <tr>\n",
              "      <th>3</th>\n",
              "      <td>-0.011689</td>\n",
              "      <td>-0.053456</td>\n",
              "      <td>-0.128466</td>\n",
              "      <td>-0.106791</td>\n",
              "      <td>0.116320</td>\n",
              "      <td>-0.030688</td>\n",
              "      <td>-0.011577</td>\n",
              "      <td>-0.031152</td>\n",
              "      <td>0.161718</td>\n",
              "      <td>-0.101874</td>\n",
              "      <td>...</td>\n",
              "      <td>0.166019</td>\n",
              "      <td>0.177654</td>\n",
              "      <td>0.066600</td>\n",
              "      <td>0.068555</td>\n",
              "      <td>5721.109480</td>\n",
              "      <td>3701.307650</td>\n",
              "      <td>1.893939</td>\n",
              "      <td>-107.198889</td>\n",
              "      <td>106.638173</td>\n",
              "      <td>1.0</td>\n",
              "    </tr>\n",
              "    <tr>\n",
              "      <th>4</th>\n",
              "      <td>-0.008956</td>\n",
              "      <td>-0.002147</td>\n",
              "      <td>-0.127113</td>\n",
              "      <td>-0.131215</td>\n",
              "      <td>0.116599</td>\n",
              "      <td>-0.099973</td>\n",
              "      <td>0.010518</td>\n",
              "      <td>-0.026963</td>\n",
              "      <td>0.098702</td>\n",
              "      <td>-0.129256</td>\n",
              "      <td>...</td>\n",
              "      <td>0.117746</td>\n",
              "      <td>0.140863</td>\n",
              "      <td>0.076510</td>\n",
              "      <td>0.058947</td>\n",
              "      <td>4075.818650</td>\n",
              "      <td>3445.456428</td>\n",
              "      <td>2.245509</td>\n",
              "      <td>-77.738639</td>\n",
              "      <td>107.043610</td>\n",
              "      <td>1.0</td>\n",
              "    </tr>\n",
              "  </tbody>\n",
              "</table>\n",
              "<p>5 rows × 782 columns</p>\n",
              "</div>\n",
              "    <div class=\"colab-df-buttons\">\n",
              "\n",
              "  <div class=\"colab-df-container\">\n",
              "    <button class=\"colab-df-convert\" onclick=\"convertToInteractive('df-149fc573-f038-4cc2-b301-899fe342a7f7')\"\n",
              "            title=\"Convert this dataframe to an interactive table.\"\n",
              "            style=\"display:none;\">\n",
              "\n",
              "  <svg xmlns=\"http://www.w3.org/2000/svg\" height=\"24px\" viewBox=\"0 -960 960 960\">\n",
              "    <path d=\"M120-120v-720h720v720H120Zm60-500h600v-160H180v160Zm220 220h160v-160H400v160Zm0 220h160v-160H400v160ZM180-400h160v-160H180v160Zm440 0h160v-160H620v160ZM180-180h160v-160H180v160Zm440 0h160v-160H620v160Z\"/>\n",
              "  </svg>\n",
              "    </button>\n",
              "\n",
              "  <style>\n",
              "    .colab-df-container {\n",
              "      display:flex;\n",
              "      gap: 12px;\n",
              "    }\n",
              "\n",
              "    .colab-df-convert {\n",
              "      background-color: #E8F0FE;\n",
              "      border: none;\n",
              "      border-radius: 50%;\n",
              "      cursor: pointer;\n",
              "      display: none;\n",
              "      fill: #1967D2;\n",
              "      height: 32px;\n",
              "      padding: 0 0 0 0;\n",
              "      width: 32px;\n",
              "    }\n",
              "\n",
              "    .colab-df-convert:hover {\n",
              "      background-color: #E2EBFA;\n",
              "      box-shadow: 0px 1px 2px rgba(60, 64, 67, 0.3), 0px 1px 3px 1px rgba(60, 64, 67, 0.15);\n",
              "      fill: #174EA6;\n",
              "    }\n",
              "\n",
              "    .colab-df-buttons div {\n",
              "      margin-bottom: 4px;\n",
              "    }\n",
              "\n",
              "    [theme=dark] .colab-df-convert {\n",
              "      background-color: #3B4455;\n",
              "      fill: #D2E3FC;\n",
              "    }\n",
              "\n",
              "    [theme=dark] .colab-df-convert:hover {\n",
              "      background-color: #434B5C;\n",
              "      box-shadow: 0px 1px 3px 1px rgba(0, 0, 0, 0.15);\n",
              "      filter: drop-shadow(0px 1px 2px rgba(0, 0, 0, 0.3));\n",
              "      fill: #FFFFFF;\n",
              "    }\n",
              "  </style>\n",
              "\n",
              "    <script>\n",
              "      const buttonEl =\n",
              "        document.querySelector('#df-149fc573-f038-4cc2-b301-899fe342a7f7 button.colab-df-convert');\n",
              "      buttonEl.style.display =\n",
              "        google.colab.kernel.accessAllowed ? 'block' : 'none';\n",
              "\n",
              "      async function convertToInteractive(key) {\n",
              "        const element = document.querySelector('#df-149fc573-f038-4cc2-b301-899fe342a7f7');\n",
              "        const dataTable =\n",
              "          await google.colab.kernel.invokeFunction('convertToInteractive',\n",
              "                                                    [key], {});\n",
              "        if (!dataTable) return;\n",
              "\n",
              "        const docLinkHtml = 'Like what you see? Visit the ' +\n",
              "          '<a target=\"_blank\" href=https://colab.research.google.com/notebooks/data_table.ipynb>data table notebook</a>'\n",
              "          + ' to learn more about interactive tables.';\n",
              "        element.innerHTML = '';\n",
              "        dataTable['output_type'] = 'display_data';\n",
              "        await google.colab.output.renderOutput(dataTable, element);\n",
              "        const docLink = document.createElement('div');\n",
              "        docLink.innerHTML = docLinkHtml;\n",
              "        element.appendChild(docLink);\n",
              "      }\n",
              "    </script>\n",
              "  </div>\n",
              "\n",
              "\n",
              "<div id=\"df-5bcce57a-d456-44aa-adde-b21fbe472f25\">\n",
              "  <button class=\"colab-df-quickchart\" onclick=\"quickchart('df-5bcce57a-d456-44aa-adde-b21fbe472f25')\"\n",
              "            title=\"Suggest charts\"\n",
              "            style=\"display:none;\">\n",
              "\n",
              "<svg xmlns=\"http://www.w3.org/2000/svg\" height=\"24px\"viewBox=\"0 0 24 24\"\n",
              "     width=\"24px\">\n",
              "    <g>\n",
              "        <path d=\"M19 3H5c-1.1 0-2 .9-2 2v14c0 1.1.9 2 2 2h14c1.1 0 2-.9 2-2V5c0-1.1-.9-2-2-2zM9 17H7v-7h2v7zm4 0h-2V7h2v10zm4 0h-2v-4h2v4z\"/>\n",
              "    </g>\n",
              "</svg>\n",
              "  </button>\n",
              "\n",
              "<style>\n",
              "  .colab-df-quickchart {\n",
              "      --bg-color: #E8F0FE;\n",
              "      --fill-color: #1967D2;\n",
              "      --hover-bg-color: #E2EBFA;\n",
              "      --hover-fill-color: #174EA6;\n",
              "      --disabled-fill-color: #AAA;\n",
              "      --disabled-bg-color: #DDD;\n",
              "  }\n",
              "\n",
              "  [theme=dark] .colab-df-quickchart {\n",
              "      --bg-color: #3B4455;\n",
              "      --fill-color: #D2E3FC;\n",
              "      --hover-bg-color: #434B5C;\n",
              "      --hover-fill-color: #FFFFFF;\n",
              "      --disabled-bg-color: #3B4455;\n",
              "      --disabled-fill-color: #666;\n",
              "  }\n",
              "\n",
              "  .colab-df-quickchart {\n",
              "    background-color: var(--bg-color);\n",
              "    border: none;\n",
              "    border-radius: 50%;\n",
              "    cursor: pointer;\n",
              "    display: none;\n",
              "    fill: var(--fill-color);\n",
              "    height: 32px;\n",
              "    padding: 0;\n",
              "    width: 32px;\n",
              "  }\n",
              "\n",
              "  .colab-df-quickchart:hover {\n",
              "    background-color: var(--hover-bg-color);\n",
              "    box-shadow: 0 1px 2px rgba(60, 64, 67, 0.3), 0 1px 3px 1px rgba(60, 64, 67, 0.15);\n",
              "    fill: var(--button-hover-fill-color);\n",
              "  }\n",
              "\n",
              "  .colab-df-quickchart-complete:disabled,\n",
              "  .colab-df-quickchart-complete:disabled:hover {\n",
              "    background-color: var(--disabled-bg-color);\n",
              "    fill: var(--disabled-fill-color);\n",
              "    box-shadow: none;\n",
              "  }\n",
              "\n",
              "  .colab-df-spinner {\n",
              "    border: 2px solid var(--fill-color);\n",
              "    border-color: transparent;\n",
              "    border-bottom-color: var(--fill-color);\n",
              "    animation:\n",
              "      spin 1s steps(1) infinite;\n",
              "  }\n",
              "\n",
              "  @keyframes spin {\n",
              "    0% {\n",
              "      border-color: transparent;\n",
              "      border-bottom-color: var(--fill-color);\n",
              "      border-left-color: var(--fill-color);\n",
              "    }\n",
              "    20% {\n",
              "      border-color: transparent;\n",
              "      border-left-color: var(--fill-color);\n",
              "      border-top-color: var(--fill-color);\n",
              "    }\n",
              "    30% {\n",
              "      border-color: transparent;\n",
              "      border-left-color: var(--fill-color);\n",
              "      border-top-color: var(--fill-color);\n",
              "      border-right-color: var(--fill-color);\n",
              "    }\n",
              "    40% {\n",
              "      border-color: transparent;\n",
              "      border-right-color: var(--fill-color);\n",
              "      border-top-color: var(--fill-color);\n",
              "    }\n",
              "    60% {\n",
              "      border-color: transparent;\n",
              "      border-right-color: var(--fill-color);\n",
              "    }\n",
              "    80% {\n",
              "      border-color: transparent;\n",
              "      border-right-color: var(--fill-color);\n",
              "      border-bottom-color: var(--fill-color);\n",
              "    }\n",
              "    90% {\n",
              "      border-color: transparent;\n",
              "      border-bottom-color: var(--fill-color);\n",
              "    }\n",
              "  }\n",
              "</style>\n",
              "\n",
              "  <script>\n",
              "    async function quickchart(key) {\n",
              "      const quickchartButtonEl =\n",
              "        document.querySelector('#' + key + ' button');\n",
              "      quickchartButtonEl.disabled = true;  // To prevent multiple clicks.\n",
              "      quickchartButtonEl.classList.add('colab-df-spinner');\n",
              "      try {\n",
              "        const charts = await google.colab.kernel.invokeFunction(\n",
              "            'suggestCharts', [key], {});\n",
              "      } catch (error) {\n",
              "        console.error('Error during call to suggestCharts:', error);\n",
              "      }\n",
              "      quickchartButtonEl.classList.remove('colab-df-spinner');\n",
              "      quickchartButtonEl.classList.add('colab-df-quickchart-complete');\n",
              "    }\n",
              "    (() => {\n",
              "      let quickchartButtonEl =\n",
              "        document.querySelector('#df-5bcce57a-d456-44aa-adde-b21fbe472f25 button');\n",
              "      quickchartButtonEl.style.display =\n",
              "        google.colab.kernel.accessAllowed ? 'block' : 'none';\n",
              "    })();\n",
              "  </script>\n",
              "</div>\n",
              "\n",
              "    </div>\n",
              "  </div>\n"
            ],
            "application/vnd.google.colaboratory.intrinsic+json": {
              "type": "dataframe",
              "variable_name": "df"
            }
          },
          "metadata": {},
          "execution_count": 3
        }
      ]
    },
    {
      "cell_type": "code",
      "source": [
        "df.info()"
      ],
      "metadata": {
        "colab": {
          "base_uri": "https://localhost:8080/"
        },
        "id": "TGCzVzc13kx9",
        "outputId": "63e706a2-02d6-4d75-8476-8feff7fe8695"
      },
      "execution_count": null,
      "outputs": [
        {
          "output_type": "stream",
          "name": "stdout",
          "text": [
            "<class 'pandas.core.frame.DataFrame'>\n",
            "Index: 2000 entries, 0 to 1999\n",
            "Columns: 782 entries, 0 to label\n",
            "dtypes: float64(782)\n",
            "memory usage: 11.9 MB\n"
          ]
        }
      ]
    },
    {
      "cell_type": "code",
      "source": [
        "df.isna().sum()"
      ],
      "metadata": {
        "colab": {
          "base_uri": "https://localhost:8080/",
          "height": 458
        },
        "id": "0wPo2lI63rsi",
        "outputId": "ab366ad2-eb05-4058-e31a-c468244bb726"
      },
      "execution_count": null,
      "outputs": [
        {
          "output_type": "execute_result",
          "data": {
            "text/plain": [
              "0        0\n",
              "1        0\n",
              "2        0\n",
              "3        0\n",
              "4        0\n",
              "        ..\n",
              "777      0\n",
              "778      0\n",
              "779      0\n",
              "780      0\n",
              "label    0\n",
              "Length: 782, dtype: int64"
            ],
            "text/html": [
              "<div>\n",
              "<style scoped>\n",
              "    .dataframe tbody tr th:only-of-type {\n",
              "        vertical-align: middle;\n",
              "    }\n",
              "\n",
              "    .dataframe tbody tr th {\n",
              "        vertical-align: top;\n",
              "    }\n",
              "\n",
              "    .dataframe thead th {\n",
              "        text-align: right;\n",
              "    }\n",
              "</style>\n",
              "<table border=\"1\" class=\"dataframe\">\n",
              "  <thead>\n",
              "    <tr style=\"text-align: right;\">\n",
              "      <th></th>\n",
              "      <th>0</th>\n",
              "    </tr>\n",
              "  </thead>\n",
              "  <tbody>\n",
              "    <tr>\n",
              "      <th>0</th>\n",
              "      <td>0</td>\n",
              "    </tr>\n",
              "    <tr>\n",
              "      <th>1</th>\n",
              "      <td>0</td>\n",
              "    </tr>\n",
              "    <tr>\n",
              "      <th>2</th>\n",
              "      <td>0</td>\n",
              "    </tr>\n",
              "    <tr>\n",
              "      <th>3</th>\n",
              "      <td>0</td>\n",
              "    </tr>\n",
              "    <tr>\n",
              "      <th>4</th>\n",
              "      <td>0</td>\n",
              "    </tr>\n",
              "    <tr>\n",
              "      <th>...</th>\n",
              "      <td>...</td>\n",
              "    </tr>\n",
              "    <tr>\n",
              "      <th>777</th>\n",
              "      <td>0</td>\n",
              "    </tr>\n",
              "    <tr>\n",
              "      <th>778</th>\n",
              "      <td>0</td>\n",
              "    </tr>\n",
              "    <tr>\n",
              "      <th>779</th>\n",
              "      <td>0</td>\n",
              "    </tr>\n",
              "    <tr>\n",
              "      <th>780</th>\n",
              "      <td>0</td>\n",
              "    </tr>\n",
              "    <tr>\n",
              "      <th>label</th>\n",
              "      <td>0</td>\n",
              "    </tr>\n",
              "  </tbody>\n",
              "</table>\n",
              "<p>782 rows × 1 columns</p>\n",
              "</div><br><label><b>dtype:</b> int64</label>"
            ]
          },
          "metadata": {},
          "execution_count": 5
        }
      ]
    },
    {
      "cell_type": "code",
      "source": [
        "df['label'].value_counts()"
      ],
      "metadata": {
        "colab": {
          "base_uri": "https://localhost:8080/",
          "height": 178
        },
        "id": "qG6xfmHo37ma",
        "outputId": "82762841-9cd8-4ba1-b7e7-cd453a91a79b"
      },
      "execution_count": null,
      "outputs": [
        {
          "output_type": "execute_result",
          "data": {
            "text/plain": [
              "label\n",
              "1.0    1354\n",
              "0.0     646\n",
              "Name: count, dtype: int64"
            ],
            "text/html": [
              "<div>\n",
              "<style scoped>\n",
              "    .dataframe tbody tr th:only-of-type {\n",
              "        vertical-align: middle;\n",
              "    }\n",
              "\n",
              "    .dataframe tbody tr th {\n",
              "        vertical-align: top;\n",
              "    }\n",
              "\n",
              "    .dataframe thead th {\n",
              "        text-align: right;\n",
              "    }\n",
              "</style>\n",
              "<table border=\"1\" class=\"dataframe\">\n",
              "  <thead>\n",
              "    <tr style=\"text-align: right;\">\n",
              "      <th></th>\n",
              "      <th>count</th>\n",
              "    </tr>\n",
              "    <tr>\n",
              "      <th>label</th>\n",
              "      <th></th>\n",
              "    </tr>\n",
              "  </thead>\n",
              "  <tbody>\n",
              "    <tr>\n",
              "      <th>1.0</th>\n",
              "      <td>1354</td>\n",
              "    </tr>\n",
              "    <tr>\n",
              "      <th>0.0</th>\n",
              "      <td>646</td>\n",
              "    </tr>\n",
              "  </tbody>\n",
              "</table>\n",
              "</div><br><label><b>dtype:</b> int64</label>"
            ]
          },
          "metadata": {},
          "execution_count": 6
        }
      ]
    },
    {
      "cell_type": "markdown",
      "source": [
        "## Preprocessing"
      ],
      "metadata": {
        "id": "qQTRg6Bs3vA4"
      }
    },
    {
      "cell_type": "code",
      "source": [
        "from sklearn.preprocessing import StandardScaler, MinMaxScaler\n",
        "\n",
        "X = df.iloc[:, :-1].values\n",
        "y = df.iloc[:, -1].values\n",
        "\n",
        "scaler = StandardScaler()\n",
        "X_scaled = scaler.fit_transform(X)\n",
        "\n",
        "X_scaled_df = pd.DataFrame(X_scaled, columns=df.columns[:-1])"
      ],
      "metadata": {
        "id": "oUsNP0F63wxw"
      },
      "execution_count": null,
      "outputs": []
    },
    {
      "cell_type": "code",
      "source": [
        "from sklearn.model_selection import train_test_split\n",
        "\n",
        "X_train, X_test, y_train, y_test = train_test_split(\n",
        "    X_scaled, y, test_size=0.2, random_state=42, stratify=y\n",
        ")\n",
        "\n",
        "print(\"Training set size:\", X_train.shape)\n",
        "print(\"Testing set size:\", X_test.shape)"
      ],
      "metadata": {
        "colab": {
          "base_uri": "https://localhost:8080/"
        },
        "id": "NgLjKvi94JdE",
        "outputId": "dde1a65c-beb5-46b1-e964-441528fcb652"
      },
      "execution_count": null,
      "outputs": [
        {
          "output_type": "stream",
          "name": "stdout",
          "text": [
            "Training set size: (1600, 781)\n",
            "Testing set size: (400, 781)\n"
          ]
        }
      ]
    },
    {
      "cell_type": "code",
      "source": [
        "from imblearn.over_sampling import SMOTE\n",
        "\n",
        "smote = SMOTE(random_state=42)\n",
        "X_train_resampled, y_train_resampled = smote.fit_resample(X_train, y_train)\n",
        "\n",
        "print(\"Original training labels distribution:\", pd.Series(y_train).value_counts())\n",
        "print(\"Resampled training labels distribution:\", pd.Series(y_train_resampled).value_counts())"
      ],
      "metadata": {
        "colab": {
          "base_uri": "https://localhost:8080/"
        },
        "id": "3K9RzJHC4NiS",
        "outputId": "449c5e02-0d04-4278-82b7-775660f58456"
      },
      "execution_count": null,
      "outputs": [
        {
          "output_type": "stream",
          "name": "stdout",
          "text": [
            "Original training labels distribution: 1.0    1083\n",
            "0.0     517\n",
            "Name: count, dtype: int64\n",
            "Resampled training labels distribution: 0.0    1083\n",
            "1.0    1083\n",
            "Name: count, dtype: int64\n"
          ]
        }
      ]
    },
    {
      "cell_type": "code",
      "source": [
        "from sklearn.decomposition import PCA\n",
        "\n",
        "pca = PCA(n_components=100, random_state=42)\n",
        "X_train_pca = pca.fit_transform(X_train_resampled)\n",
        "X_test_pca = pca.transform(X_test)\n",
        "\n",
        "print(\"Explained variance by components:\", pca.explained_variance_ratio_)"
      ],
      "metadata": {
        "colab": {
          "base_uri": "https://localhost:8080/"
        },
        "id": "BWzjiS_T4UpY",
        "outputId": "0902d70c-fd8d-44d9-8a04-04996d7cff04"
      },
      "execution_count": null,
      "outputs": [
        {
          "output_type": "stream",
          "name": "stdout",
          "text": [
            "Explained variance by components: [0.3211888  0.08279232 0.05371366 0.03628486 0.03262382 0.02819028\n",
            " 0.02553314 0.02323983 0.02135775 0.01845554 0.0173123  0.01606451\n",
            " 0.01458487 0.01332192 0.01263258 0.01195555 0.01105483 0.01048521\n",
            " 0.00996611 0.00960099 0.00911659 0.00775035 0.00762665 0.00721051\n",
            " 0.00663349 0.00642701 0.00600821 0.00524071 0.00503858 0.00495973\n",
            " 0.00454631 0.00423814 0.00396895 0.00389364 0.00366055 0.00341297\n",
            " 0.00339033 0.00330295 0.0031749  0.0031125  0.00284062 0.00271111\n",
            " 0.00250012 0.00247912 0.00234816 0.00222685 0.00217018 0.00210569\n",
            " 0.0020093  0.00194743 0.00185015 0.00178245 0.00169878 0.00169244\n",
            " 0.00162964 0.00162502 0.00152057 0.00149731 0.00148915 0.00144102\n",
            " 0.00141131 0.00140162 0.00133347 0.00132102 0.00128174 0.00125899\n",
            " 0.00121297 0.00117597 0.00117171 0.00112869 0.00112194 0.00109481\n",
            " 0.00104731 0.0010114  0.00100366 0.0009818  0.00097047 0.0009547\n",
            " 0.00093622 0.00091292 0.0008916  0.00089073 0.00086518 0.00084441\n",
            " 0.00083765 0.00082706 0.00081728 0.00078284 0.0007683  0.00076635\n",
            " 0.00074992 0.0007255  0.00070997 0.00069742 0.00067972 0.00066551\n",
            " 0.00065511 0.00064429 0.0006209  0.00060746]\n"
          ]
        }
      ]
    },
    {
      "cell_type": "code",
      "source": [
        "from sklearn.ensemble import RandomForestClassifier\n",
        "import numpy as np\n",
        "\n",
        "rf = RandomForestClassifier(random_state=42)\n",
        "rf.fit(X_train_pca, y_train_resampled)\n",
        "\n",
        "importances = rf.feature_importances_\n",
        "sorted_indices = np.argsort(importances)[::-1]\n",
        "\n",
        "print(\"Top 10 important features:\", sorted_indices[:10])"
      ],
      "metadata": {
        "colab": {
          "base_uri": "https://localhost:8080/"
        },
        "id": "rWybNb9b4crT",
        "outputId": "48af3fb8-03cd-436d-ee68-309b481dbf6a"
      },
      "execution_count": null,
      "outputs": [
        {
          "output_type": "stream",
          "name": "stdout",
          "text": [
            "Top 10 important features: [46  0 38 58 53 42 75 71 60 82]\n"
          ]
        }
      ]
    },
    {
      "cell_type": "markdown",
      "source": [
        "## Baseline Models"
      ],
      "metadata": {
        "id": "a6p0Lrf04lA0"
      }
    },
    {
      "cell_type": "markdown",
      "source": [
        "### Logistic Regression"
      ],
      "metadata": {
        "id": "NpanOJCV6ejC"
      }
    },
    {
      "cell_type": "code",
      "source": [
        "from sklearn.linear_model import LogisticRegression\n",
        "from sklearn.metrics import classification_report, accuracy_score, roc_auc_score\n",
        "\n",
        "lr = LogisticRegression(random_state=42, max_iter=1000)\n",
        "lr.fit(X_train_resampled, y_train_resampled)\n",
        "\n",
        "y_pred = lr.predict(X_test)\n",
        "y_proba = lr.predict_proba(X_test)[:, 1]\n",
        "\n",
        "print(\"Accuracy:\", accuracy_score(y_test, y_pred))\n",
        "print(\"AUC-ROC:\", roc_auc_score(y_test, y_proba))\n",
        "print(\"\\nClassification Report:\\n\", classification_report(y_test, y_pred))"
      ],
      "metadata": {
        "colab": {
          "base_uri": "https://localhost:8080/"
        },
        "id": "lxHuESYd4mzN",
        "outputId": "6dc62d7f-5750-4bbb-9c05-71376a81f117"
      },
      "execution_count": null,
      "outputs": [
        {
          "output_type": "stream",
          "name": "stdout",
          "text": [
            "Accuracy: 0.57\n",
            "AUC-ROC: 0.5483852512943734\n",
            "\n",
            "Classification Report:\n",
            "               precision    recall  f1-score   support\n",
            "\n",
            "         0.0       0.35      0.37      0.36       129\n",
            "         1.0       0.69      0.66      0.68       271\n",
            "\n",
            "    accuracy                           0.57       400\n",
            "   macro avg       0.52      0.52      0.52       400\n",
            "weighted avg       0.58      0.57      0.57       400\n",
            "\n"
          ]
        }
      ]
    },
    {
      "cell_type": "code",
      "source": [
        "from sklearn.metrics import confusion_matrix, roc_curve, auc\n",
        "\n",
        "conf_matrix = confusion_matrix(y_test, y_pred)\n",
        "print(\"Confusion Matrix:\\n\", conf_matrix)\n",
        "\n",
        "fpr, tpr, _ = roc_curve(y_test, y_proba)\n",
        "roc_auc = auc(fpr, tpr)\n",
        "\n",
        "plt.figure()\n",
        "plt.plot(fpr, tpr, label=f\"AUC = {roc_auc:.2f}\")\n",
        "plt.title('ROC Curve')\n",
        "plt.xlabel('False Positive Rate')\n",
        "plt.ylabel('True Positive Rate')\n",
        "plt.legend(loc='lower right')\n",
        "plt.show()"
      ],
      "metadata": {
        "colab": {
          "base_uri": "https://localhost:8080/",
          "height": 526
        },
        "id": "VxZXDAM95W-m",
        "outputId": "4f7a1786-9b37-43c9-b261-eea461a91982"
      },
      "execution_count": null,
      "outputs": [
        {
          "output_type": "stream",
          "name": "stdout",
          "text": [
            "Confusion Matrix:\n",
            " [[ 48  81]\n",
            " [ 91 180]]\n"
          ]
        },
        {
          "output_type": "display_data",
          "data": {
            "text/plain": [
              "<Figure size 640x480 with 1 Axes>"
            ],
            "image/png": "[encoded data removed]"
          },
          "metadata": {}
        }
      ]
    },
    {
      "cell_type": "markdown",
      "source": [
        "The model is biased toward class 1, performing poorly on class 0. Logistic Regression does not capture the non-linear patterns in the data."
      ],
      "metadata": {
        "id": "pTGIkJ-x3fs7"
      }
    },
    {
      "cell_type": "markdown",
      "source": [
        "### Random Forest"
      ],
      "metadata": {
        "id": "XCOlcRYF69hN"
      }
    },
    {
      "cell_type": "code",
      "source": [
        "from sklearn.ensemble import RandomForestClassifier\n",
        "from sklearn.metrics import classification_report, roc_auc_score\n",
        "\n",
        "rf = RandomForestClassifier(n_estimators=100, random_state=42)\n",
        "rf.fit(X_train_resampled, y_train_resampled)\n",
        "\n",
        "y_pred_rf = rf.predict(X_test)\n",
        "y_proba_rf = rf.predict_proba(X_test)[:, 1]\n",
        "\n",
        "print(\"Random Forest Classification Report:\\n\", classification_report(y_test, y_pred_rf))\n",
        "print(\"Random Forest AUC-ROC:\", roc_auc_score(y_test, y_proba_rf))"
      ],
      "metadata": {
        "colab": {
          "base_uri": "https://localhost:8080/"
        },
        "id": "FiQR-7uv7A52",
        "outputId": "7dee0f82-359e-4e1c-b0f3-2e17bd6b225f"
      },
      "execution_count": null,
      "outputs": [
        {
          "output_type": "stream",
          "name": "stdout",
          "text": [
            "Random Forest Classification Report:\n",
            "               precision    recall  f1-score   support\n",
            "\n",
            "         0.0       0.37      0.28      0.32       129\n",
            "         1.0       0.69      0.77      0.73       271\n",
            "\n",
            "    accuracy                           0.61       400\n",
            "   macro avg       0.53      0.53      0.53       400\n",
            "weighted avg       0.59      0.61      0.60       400\n",
            "\n",
            "Random Forest AUC-ROC: 0.5366143196315684\n"
          ]
        }
      ]
    },
    {
      "cell_type": "markdown",
      "source": [
        "Random Forest slightly outperforms Logistic Regression but still struggles with class 0, indicating an imbalance in prediction."
      ],
      "metadata": {
        "id": "Trt5Qmzm3mW0"
      }
    },
    {
      "cell_type": "markdown",
      "source": [
        "### XGBoost"
      ],
      "metadata": {
        "id": "J1vdmh5v7HIa"
      }
    },
    {
      "cell_type": "code",
      "source": [
        "import xgboost as xgb\n",
        "\n",
        "xgb_model = xgb.XGBClassifier(use_label_encoder=False, eval_metric='logloss', random_state=42)\n",
        "xgb_model.fit(X_train, y_train)\n",
        "\n",
        "y_pred_xgb = xgb_model.predict(X_test)\n",
        "y_proba_xgb = xgb_model.predict_proba(X_test)[:, 1]\n",
        "\n",
        "print(\"XGBoost Classification Report:\\n\", classification_report(y_test, y_pred_xgb))\n",
        "print(\"XGBoost AUC-ROC:\", roc_auc_score(y_test, y_proba_xgb))"
      ],
      "metadata": {
        "colab": {
          "base_uri": "https://localhost:8080/"
        },
        "id": "ZU1S2gQc7JS4",
        "outputId": "edd4b347-fcd9-4932-c198-2ae89a0522c4"
      },
      "execution_count": null,
      "outputs": [
        {
          "output_type": "stream",
          "name": "stderr",
          "text": [
            "/usr/local/lib/python3.10/dist-packages/xgboost/core.py:158: UserWarning: [11:38:38] WARNING: /workspace/src/learner.cc:740: \n",
            "Parameters: { \"use_label_encoder\" } are not used.\n",
            "\n",
            "  warnings.warn(smsg, UserWarning)\n"
          ]
        },
        {
          "output_type": "stream",
          "name": "stdout",
          "text": [
            "XGBoost Classification Report:\n",
            "               precision    recall  f1-score   support\n",
            "\n",
            "         0.0       0.37      0.15      0.21       129\n",
            "         1.0       0.68      0.88      0.77       271\n",
            "\n",
            "    accuracy                           0.65       400\n",
            "   macro avg       0.53      0.51      0.49       400\n",
            "weighted avg       0.58      0.65      0.59       400\n",
            "\n",
            "XGBoost AUC-ROC: 0.5560513744672331\n"
          ]
        }
      ]
    },
    {
      "cell_type": "markdown",
      "source": [
        "XGBoost did not significantly improve results compared to Random Forest, likely due to limited tuning or insufficient representation of class 0 in training."
      ],
      "metadata": {
        "id": "NyrV7YXV3qUo"
      }
    },
    {
      "cell_type": "markdown",
      "source": [
        "### Grid Search CV Logistic Regression"
      ],
      "metadata": {
        "id": "h-dm2i2n6ikD"
      }
    },
    {
      "cell_type": "code",
      "source": [
        "from sklearn.model_selection import GridSearchCV\n",
        "\n",
        "param_grid = {'C': [0.1, 1, 10], 'solver': ['lbfgs', 'saga']}\n",
        "\n",
        "grid_search = GridSearchCV(LogisticRegression(random_state=42, max_iter=1000), param_grid, cv=5, scoring='accuracy')\n",
        "grid_search.fit(X_train, y_train)\n",
        "\n",
        "print(\"Best Parameters:\", grid_search.best_params_)\n",
        "print(\"Best Cross-Validation Accuracy:\", grid_search.best_score_)"
      ],
      "metadata": {
        "colab": {
          "base_uri": "https://localhost:8080/"
        },
        "id": "pRWIRUxf5d3D",
        "outputId": "6efc6b0b-5ce8-4402-cc62-427d19852ade"
      },
      "execution_count": null,
      "outputs": [
        {
          "output_type": "stream",
          "name": "stderr",
          "text": [
            "/usr/local/lib/python3.10/dist-packages/sklearn/linear_model/_sag.py:349: ConvergenceWarning: The max_iter was reached which means the coef_ did not converge\n",
            "  warnings.warn(\n",
            "/usr/local/lib/python3.10/dist-packages/sklearn/linear_model/_sag.py:349: ConvergenceWarning: The max_iter was reached which means the coef_ did not converge\n",
            "  warnings.warn(\n",
            "/usr/local/lib/python3.10/dist-packages/sklearn/linear_model/_sag.py:349: ConvergenceWarning: The max_iter was reached which means the coef_ did not converge\n",
            "  warnings.warn(\n",
            "/usr/local/lib/python3.10/dist-packages/sklearn/linear_model/_sag.py:349: ConvergenceWarning: The max_iter was reached which means the coef_ did not converge\n",
            "  warnings.warn(\n",
            "/usr/local/lib/python3.10/dist-packages/sklearn/linear_model/_sag.py:349: ConvergenceWarning: The max_iter was reached which means the coef_ did not converge\n",
            "  warnings.warn(\n",
            "/usr/local/lib/python3.10/dist-packages/sklearn/linear_model/_sag.py:349: ConvergenceWarning: The max_iter was reached which means the coef_ did not converge\n",
            "  warnings.warn(\n",
            "/usr/local/lib/python3.10/dist-packages/sklearn/linear_model/_sag.py:349: ConvergenceWarning: The max_iter was reached which means the coef_ did not converge\n",
            "  warnings.warn(\n",
            "/usr/local/lib/python3.10/dist-packages/sklearn/linear_model/_sag.py:349: ConvergenceWarning: The max_iter was reached which means the coef_ did not converge\n",
            "  warnings.warn(\n",
            "/usr/local/lib/python3.10/dist-packages/sklearn/linear_model/_sag.py:349: ConvergenceWarning: The max_iter was reached which means the coef_ did not converge\n",
            "  warnings.warn(\n",
            "/usr/local/lib/python3.10/dist-packages/sklearn/linear_model/_sag.py:349: ConvergenceWarning: The max_iter was reached which means the coef_ did not converge\n",
            "  warnings.warn(\n"
          ]
        },
        {
          "output_type": "stream",
          "name": "stdout",
          "text": [
            "Best Parameters: {'C': 0.1, 'solver': 'lbfgs'}\n",
            "Best Cross-Validation Accuracy: 0.60375\n"
          ]
        }
      ]
    },
    {
      "cell_type": "markdown",
      "source": [
        "Tuning slightly improves accuracy, but the fundamental limitations of Logistic Regression persist."
      ],
      "metadata": {
        "id": "mpxRGaZT3uo3"
      }
    },
    {
      "cell_type": "markdown",
      "source": [
        "### Neural Network"
      ],
      "metadata": {
        "id": "SODzMBku6nGO"
      }
    },
    {
      "cell_type": "code",
      "source": [
        "import tensorflow as tf\n",
        "from tensorflow.keras.models import Sequential\n",
        "from tensorflow.keras.layers import Dense, Dropout\n",
        "\n",
        "model = Sequential([\n",
        "    Dense(512, activation='relu', input_shape=(X_train_resampled.shape[1],)),\n",
        "    Dropout(0.3),\n",
        "    Dense(256, activation='relu'),\n",
        "    Dropout(0.3),\n",
        "    Dense(1, activation='sigmoid')\n",
        "])"
      ],
      "metadata": {
        "colab": {
          "base_uri": "https://localhost:8080/"
        },
        "id": "-LA6lWD94ymK",
        "outputId": "249f3d7d-1817-418a-9672-671f874e9d10"
      },
      "execution_count": null,
      "outputs": [
        {
          "output_type": "stream",
          "name": "stderr",
          "text": [
            "/usr/local/lib/python3.10/dist-packages/keras/src/layers/core/dense.py:87: UserWarning: Do not pass an `input_shape`/`input_dim` argument to a layer. When using Sequential models, prefer using an `Input(shape)` object as the first layer in the model instead.\n",
            "  super().__init__(activity_regularizer=activity_regularizer, **kwargs)\n"
          ]
        }
      ]
    },
    {
      "cell_type": "code",
      "source": [
        "model.compile(optimizer='adam', loss='binary_crossentropy', metrics=['accuracy'])"
      ],
      "metadata": {
        "id": "r9ykSiW847QZ"
      },
      "execution_count": null,
      "outputs": []
    },
    {
      "cell_type": "code",
      "source": [
        "history = model.fit(\n",
        "    X_train_resampled, y_train_resampled,\n",
        "    validation_data=(X_test, y_test),\n",
        "    epochs=20, batch_size=32, verbose=1\n",
        ")"
      ],
      "metadata": {
        "colab": {
          "base_uri": "https://localhost:8080/"
        },
        "id": "CtH2v4OR499S",
        "outputId": "93011d31-b572-4bd2-aa85-9112c5b7588f"
      },
      "execution_count": null,
      "outputs": [
        {
          "output_type": "stream",
          "name": "stdout",
          "text": [
            "Epoch 1/20\n",
            "\u001b[1m68/68\u001b[0m \u001b[32m━━━━━━━━━━━━━━━━━━━━\u001b[0m\u001b[37m\u001b[0m \u001b[1m3s\u001b[0m 16ms/step - accuracy: 0.5085 - loss: 0.8986 - val_accuracy: 0.6275 - val_loss: 0.6796\n",
            "Epoch 2/20\n",
            "\u001b[1m68/68\u001b[0m \u001b[32m━━━━━━━━━━━━━━━━━━━━\u001b[0m\u001b[37m\u001b[0m \u001b[1m1s\u001b[0m 9ms/step - accuracy: 0.5989 - loss: 0.7182 - val_accuracy: 0.5900 - val_loss: 0.6832\n",
            "Epoch 3/20\n",
            "\u001b[1m68/68\u001b[0m \u001b[32m━━━━━━━━━━━━━━━━━━━━\u001b[0m\u001b[37m\u001b[0m \u001b[1m1s\u001b[0m 10ms/step - accuracy: 0.6958 - loss: 0.5885 - val_accuracy: 0.4800 - val_loss: 0.7943\n",
            "Epoch 4/20\n",
            "\u001b[1m68/68\u001b[0m \u001b[32m━━━━━━━━━━━━━━━━━━━━\u001b[0m\u001b[37m\u001b[0m \u001b[1m1s\u001b[0m 9ms/step - accuracy: 0.6964 - loss: 0.6126 - val_accuracy: 0.5450 - val_loss: 0.7180\n",
            "Epoch 5/20\n",
            "\u001b[1m68/68\u001b[0m \u001b[32m━━━━━━━━━━━━━━━━━━━━\u001b[0m\u001b[37m\u001b[0m \u001b[1m1s\u001b[0m 9ms/step - accuracy: 0.7146 - loss: 0.5531 - val_accuracy: 0.6275 - val_loss: 0.6851\n",
            "Epoch 6/20\n",
            "\u001b[1m68/68\u001b[0m \u001b[32m━━━━━━━━━━━━━━━━━━━━\u001b[0m\u001b[37m\u001b[0m \u001b[1m1s\u001b[0m 9ms/step - accuracy: 0.7278 - loss: 0.5248 - val_accuracy: 0.5650 - val_loss: 0.7597\n",
            "Epoch 7/20\n",
            "\u001b[1m68/68\u001b[0m \u001b[32m━━━━━━━━━━━━━━━━━━━━\u001b[0m\u001b[37m\u001b[0m \u001b[1m1s\u001b[0m 10ms/step - accuracy: 0.7408 - loss: 0.5072 - val_accuracy: 0.5975 - val_loss: 0.7358\n",
            "Epoch 8/20\n",
            "\u001b[1m68/68\u001b[0m \u001b[32m━━━━━━━━━━━━━━━━━━━━\u001b[0m\u001b[37m\u001b[0m \u001b[1m1s\u001b[0m 9ms/step - accuracy: 0.7959 - loss: 0.4431 - val_accuracy: 0.5725 - val_loss: 0.8035\n",
            "Epoch 9/20\n",
            "\u001b[1m68/68\u001b[0m \u001b[32m━━━━━━━━━━━━━━━━━━━━\u001b[0m\u001b[37m\u001b[0m \u001b[1m1s\u001b[0m 9ms/step - accuracy: 0.7953 - loss: 0.4265 - val_accuracy: 0.5875 - val_loss: 0.8129\n",
            "Epoch 10/20\n",
            "\u001b[1m68/68\u001b[0m \u001b[32m━━━━━━━━━━━━━━━━━━━━\u001b[0m\u001b[37m\u001b[0m \u001b[1m1s\u001b[0m 10ms/step - accuracy: 0.8100 - loss: 0.4098 - val_accuracy: 0.6300 - val_loss: 0.8099\n",
            "Epoch 11/20\n",
            "\u001b[1m68/68\u001b[0m \u001b[32m━━━━━━━━━━━━━━━━━━━━\u001b[0m\u001b[37m\u001b[0m \u001b[1m1s\u001b[0m 9ms/step - accuracy: 0.8230 - loss: 0.3753 - val_accuracy: 0.5975 - val_loss: 0.8655\n",
            "Epoch 12/20\n",
            "\u001b[1m68/68\u001b[0m \u001b[32m━━━━━━━━━━━━━━━━━━━━\u001b[0m\u001b[37m\u001b[0m \u001b[1m1s\u001b[0m 15ms/step - accuracy: 0.8326 - loss: 0.3678 - val_accuracy: 0.5975 - val_loss: 0.8955\n",
            "Epoch 13/20\n",
            "\u001b[1m68/68\u001b[0m \u001b[32m━━━━━━━━━━━━━━━━━━━━\u001b[0m\u001b[37m\u001b[0m \u001b[1m1s\u001b[0m 15ms/step - accuracy: 0.8464 - loss: 0.3424 - val_accuracy: 0.6125 - val_loss: 0.8806\n",
            "Epoch 14/20\n",
            "\u001b[1m68/68\u001b[0m \u001b[32m━━━━━━━━━━━━━━━━━━━━\u001b[0m\u001b[37m\u001b[0m \u001b[1m1s\u001b[0m 14ms/step - accuracy: 0.8492 - loss: 0.3326 - val_accuracy: 0.6100 - val_loss: 0.9743\n",
            "Epoch 15/20\n",
            "\u001b[1m68/68\u001b[0m \u001b[32m━━━━━━━━━━━━━━━━━━━━\u001b[0m\u001b[37m\u001b[0m \u001b[1m1s\u001b[0m 15ms/step - accuracy: 0.8537 - loss: 0.3167 - val_accuracy: 0.5650 - val_loss: 1.0119\n",
            "Epoch 16/20\n",
            "\u001b[1m68/68\u001b[0m \u001b[32m━━━━━━━━━━━━━━━━━━━━\u001b[0m\u001b[37m\u001b[0m \u001b[1m1s\u001b[0m 10ms/step - accuracy: 0.8800 - loss: 0.2892 - val_accuracy: 0.5575 - val_loss: 1.1413\n",
            "Epoch 17/20\n",
            "\u001b[1m68/68\u001b[0m \u001b[32m━━━━━━━━━━━━━━━━━━━━\u001b[0m\u001b[37m\u001b[0m \u001b[1m1s\u001b[0m 9ms/step - accuracy: 0.8767 - loss: 0.2771 - val_accuracy: 0.6050 - val_loss: 1.0097\n",
            "Epoch 18/20\n",
            "\u001b[1m68/68\u001b[0m \u001b[32m━━━━━━━━━━━━━━━━━━━━\u001b[0m\u001b[37m\u001b[0m \u001b[1m1s\u001b[0m 9ms/step - accuracy: 0.8909 - loss: 0.2570 - val_accuracy: 0.6050 - val_loss: 1.0380\n",
            "Epoch 19/20\n",
            "\u001b[1m68/68\u001b[0m \u001b[32m━━━━━━━━━━━━━━━━━━━━\u001b[0m\u001b[37m\u001b[0m \u001b[1m1s\u001b[0m 9ms/step - accuracy: 0.8833 - loss: 0.2611 - val_accuracy: 0.6275 - val_loss: 1.2141\n",
            "Epoch 20/20\n",
            "\u001b[1m68/68\u001b[0m \u001b[32m━━━━━━━━━━━━━━━━━━━━\u001b[0m\u001b[37m\u001b[0m \u001b[1m1s\u001b[0m 9ms/step - accuracy: 0.8839 - loss: 0.2624 - val_accuracy: 0.5900 - val_loss: 1.1798\n"
          ]
        }
      ]
    },
    {
      "cell_type": "code",
      "source": [
        "test_loss, test_acc = model.evaluate(X_test, y_test, verbose=0)\n",
        "print(f\"Test Accuracy: {test_acc:.4f}\")"
      ],
      "metadata": {
        "colab": {
          "base_uri": "https://localhost:8080/"
        },
        "id": "pcYpPj0I5A94",
        "outputId": "2354f486-58ca-443b-dbc0-e96b6e8e3e33"
      },
      "execution_count": null,
      "outputs": [
        {
          "output_type": "stream",
          "name": "stdout",
          "text": [
            "Test Accuracy: 0.5900\n"
          ]
        }
      ]
    },
    {
      "cell_type": "code",
      "source": [
        "import matplotlib.pyplot as plt\n",
        "\n",
        "plt.figure(figsize=(12, 4))\n",
        "plt.subplot(1, 2, 1)\n",
        "plt.plot(history.history['accuracy'], label='Train Accuracy')\n",
        "plt.plot(history.history['val_accuracy'], label='Validation Accuracy')\n",
        "plt.title('Accuracy')\n",
        "plt.legend()\n",
        "\n",
        "plt.subplot(1, 2, 2)\n",
        "plt.plot(history.history['loss'], label='Train Loss')\n",
        "plt.plot(history.history['val_loss'], label='Validation Loss')\n",
        "plt.title('Loss')\n",
        "plt.legend()\n",
        "\n",
        "plt.show()"
      ],
      "metadata": {
        "colab": {
          "base_uri": "https://localhost:8080/",
          "height": 391
        },
        "id": "7AYuuVGh5IiY",
        "outputId": "46c58f67-4a01-4a15-bdb9-de416c98493b"
      },
      "execution_count": null,
      "outputs": [
        {
          "output_type": "display_data",
          "data": {
            "text/plain": [
              "<Figure size 1200x400 with 2 Axes>"
            ],
            "image/png": "[encoded data removed]"
          },
          "metadata": {}
        }
      ]
    },
    {
      "cell_type": "markdown",
      "source": [
        "While training accuracy improves steadily, validation performance does not generalize well. The model might require additional regularization or fine-tuning."
      ],
      "metadata": {
        "id": "1Bs03flM3xwo"
      }
    },
    {
      "cell_type": "markdown",
      "source": [
        "### Optuna Neural Network"
      ],
      "metadata": {
        "id": "_naobnwV6sqv"
      }
    },
    {
      "cell_type": "code",
      "source": [
        "!pip install --upgrade --quiet optuna"
      ],
      "metadata": {
        "colab": {
          "base_uri": "https://localhost:8080/"
        },
        "id": "-a3XSzhy7Z3N",
        "outputId": "ee88bf37-92e0-4733-f04e-57c2bd5a4108"
      },
      "execution_count": null,
      "outputs": [
        {
          "output_type": "stream",
          "name": "stdout",
          "text": [
            "\u001b[?25l   \u001b[90m━━━━━━━━━━━━━━━━━━━━━━━━━━━━━━━━━━━━━━━━\u001b[0m \u001b[32m0.0/364.4 kB\u001b[0m \u001b[31m?\u001b[0m eta \u001b[36m-:--:--\u001b[0m\r\u001b[2K   \u001b[91m━━━━━━━━━━━━━━━━━━━━━━━━━━━━━━━━━━\u001b[0m\u001b[91m╸\u001b[0m\u001b[90m━━━━━\u001b[0m \u001b[32m317.4/364.4 kB\u001b[0m \u001b[31m9.5 MB/s\u001b[0m eta \u001b[36m0:00:01\u001b[0m\r\u001b[2K   \u001b[90m━━━━━━━━━━━━━━━━━━━━━━━━━━━━━━━━━━━━━━━━\u001b[0m \u001b[32m364.4/364.4 kB\u001b[0m \u001b[31m6.9 MB/s\u001b[0m eta \u001b[36m0:00:00\u001b[0m\n",
            "\u001b[2K   \u001b[90m━━━━━━━━━━━━━━━━━━━━━━━━━━━━━━━━━━━━━━━━\u001b[0m \u001b[32m233.5/233.5 kB\u001b[0m \u001b[31m16.1 MB/s\u001b[0m eta \u001b[36m0:00:00\u001b[0m\n",
            "\u001b[2K   \u001b[90m━━━━━━━━━━━━━━━━━━━━━━━━━━━━━━━━━━━━━━━━\u001b[0m \u001b[32m78.6/78.6 kB\u001b[0m \u001b[31m5.7 MB/s\u001b[0m eta \u001b[36m0:00:00\u001b[0m\n",
            "\u001b[?25h"
          ]
        }
      ]
    },
    {
      "cell_type": "code",
      "source": [
        "import optuna\n",
        "from tensorflow.keras.models import Sequential\n",
        "from tensorflow.keras.layers import Dense, Dropout\n",
        "from tensorflow.keras.optimizers import Adam\n",
        "\n",
        "def objective(trial):\n",
        "    n_units = trial.suggest_int('n_units', 128, 512)\n",
        "    n_layers = trial.suggest_int('n_layers', 1, 3)\n",
        "    dropout_rate = trial.suggest_float('dropout_rate', 0.1, 0.5)\n",
        "    learning_rate = trial.suggest_float('learning_rate', 1e-4, 1e-2, log=True)\n",
        "\n",
        "    model = Sequential()\n",
        "    model.add(Dense(n_units, activation='relu', input_shape=(X_train_resampled.shape[1],)))\n",
        "    model.add(Dropout(dropout_rate))\n",
        "\n",
        "    for _ in range(n_layers - 1):\n",
        "        model.add(Dense(n_units, activation='relu'))\n",
        "        model.add(Dropout(dropout_rate))\n",
        "\n",
        "    model.add(Dense(1, activation='sigmoid'))\n",
        "\n",
        "    model.compile(optimizer=Adam(learning_rate=learning_rate),\n",
        "                  loss='binary_crossentropy',\n",
        "                  metrics=['accuracy'])\n",
        "\n",
        "    model.fit(X_train_resampled, y_train_resampled,\n",
        "              validation_data=(X_test, y_test),\n",
        "              epochs=10, batch_size=32, verbose=0)\n",
        "\n",
        "    loss, accuracy = model.evaluate(X_test, y_test, verbose=0)\n",
        "    return accuracy"
      ],
      "metadata": {
        "id": "-SNtFEF_5zQ6"
      },
      "execution_count": null,
      "outputs": []
    },
    {
      "cell_type": "code",
      "source": [
        "study = optuna.create_study(direction='maximize')\n",
        "study.optimize(objective, n_trials=50)\n",
        "\n",
        "print(\"Best hyperparameters:\", study.best_params)\n",
        "print(\"Best accuracy:\", study.best_value)"
      ],
      "metadata": {
        "colab": {
          "base_uri": "https://localhost:8080/"
        },
        "id": "zt_PdSS_56xv",
        "outputId": "501f1b33-8936-459a-b0ff-978102891b5a"
      },
      "execution_count": null,
      "outputs": [
        {
          "output_type": "stream",
          "name": "stderr",
          "text": [
            "[I 2024-12-08 11:21:33,061] A new study created in memory with name: no-name-4fa80d6a-1461-41de-ad78-74e1d9946503\n",
            "[I 2024-12-08 11:21:50,516] Trial 0 finished with value: 0.5299999713897705 and parameters: {'n_units': 339, 'n_layers': 2, 'dropout_rate': 0.25808917934503445, 'learning_rate': 0.005857409429550555}. Best is trial 0 with value: 0.5299999713897705.\n",
            "[I 2024-12-08 11:22:02,770] Trial 1 finished with value: 0.5950000286102295 and parameters: {'n_units': 352, 'n_layers': 1, 'dropout_rate': 0.19326535100737063, 'learning_rate': 0.0009623134797876845}. Best is trial 1 with value: 0.5950000286102295.\n",
            "[I 2024-12-08 11:22:13,775] Trial 2 finished with value: 0.5625 and parameters: {'n_units': 386, 'n_layers': 1, 'dropout_rate': 0.35685359993396915, 'learning_rate': 0.00020639268339474215}. Best is trial 1 with value: 0.5950000286102295.\n",
            "[I 2024-12-08 11:22:22,869] Trial 3 finished with value: 0.6000000238418579 and parameters: {'n_units': 456, 'n_layers': 1, 'dropout_rate': 0.10862643834755864, 'learning_rate': 0.0010649711378463325}. Best is trial 3 with value: 0.6000000238418579.\n",
            "[I 2024-12-08 11:22:31,801] Trial 4 finished with value: 0.5774999856948853 and parameters: {'n_units': 251, 'n_layers': 3, 'dropout_rate': 0.2116263407281277, 'learning_rate': 0.00014788470222511297}. Best is trial 3 with value: 0.6000000238418579.\n",
            "[I 2024-12-08 11:22:47,119] Trial 5 finished with value: 0.6225000023841858 and parameters: {'n_units': 500, 'n_layers': 3, 'dropout_rate': 0.13775231882692274, 'learning_rate': 0.00014165807171845303}. Best is trial 5 with value: 0.6225000023841858.\n",
            "[I 2024-12-08 11:22:55,272] Trial 6 finished with value: 0.4975000023841858 and parameters: {'n_units': 238, 'n_layers': 2, 'dropout_rate': 0.4835067728178062, 'learning_rate': 0.0027722470930150412}. Best is trial 5 with value: 0.6225000023841858.\n",
            "[I 2024-12-08 11:23:06,345] Trial 7 finished with value: 0.5199999809265137 and parameters: {'n_units': 320, 'n_layers': 3, 'dropout_rate': 0.4358789493722629, 'learning_rate': 0.00018687143891819201}. Best is trial 5 with value: 0.6225000023841858.\n",
            "[I 2024-12-08 11:23:20,832] Trial 8 finished with value: 0.5799999833106995 and parameters: {'n_units': 493, 'n_layers': 3, 'dropout_rate': 0.3521029112166576, 'learning_rate': 0.00021519760092409285}. Best is trial 5 with value: 0.6225000023841858.\n",
            "[I 2024-12-08 11:23:28,400] Trial 9 finished with value: 0.5099999904632568 and parameters: {'n_units': 226, 'n_layers': 3, 'dropout_rate': 0.46496917771829704, 'learning_rate': 0.0020607496462312293}. Best is trial 5 with value: 0.6225000023841858.\n",
            "[I 2024-12-08 11:23:38,314] Trial 10 finished with value: 0.5849999785423279 and parameters: {'n_units': 438, 'n_layers': 2, 'dropout_rate': 0.11342667769460842, 'learning_rate': 0.0005213194736113292}. Best is trial 5 with value: 0.6225000023841858.\n",
            "[I 2024-12-08 11:23:46,255] Trial 11 finished with value: 0.6050000190734863 and parameters: {'n_units': 506, 'n_layers': 1, 'dropout_rate': 0.1007678470211783, 'learning_rate': 0.0005602339635310459}. Best is trial 5 with value: 0.6225000023841858.\n",
            "[I 2024-12-08 11:23:54,278] Trial 12 finished with value: 0.5600000023841858 and parameters: {'n_units': 508, 'n_layers': 1, 'dropout_rate': 0.17364371100531906, 'learning_rate': 0.00037123050627194533}. Best is trial 5 with value: 0.6225000023841858.\n",
            "[I 2024-12-08 11:23:59,834] Trial 13 finished with value: 0.5874999761581421 and parameters: {'n_units': 150, 'n_layers': 2, 'dropout_rate': 0.14654696487680924, 'learning_rate': 0.00010089937906876841}. Best is trial 5 with value: 0.6225000023841858.\n",
            "[I 2024-12-08 11:24:09,183] Trial 14 finished with value: 0.5575000047683716 and parameters: {'n_units': 431, 'n_layers': 2, 'dropout_rate': 0.25344414296165596, 'learning_rate': 0.0005279942972197921}. Best is trial 5 with value: 0.6225000023841858.\n",
            "[I 2024-12-08 11:24:24,784] Trial 15 finished with value: 0.6175000071525574 and parameters: {'n_units': 509, 'n_layers': 3, 'dropout_rate': 0.15010607640271048, 'learning_rate': 0.0003505589118297564}. Best is trial 5 with value: 0.6225000023841858.\n",
            "[I 2024-12-08 11:24:37,102] Trial 16 finished with value: 0.6000000238418579 and parameters: {'n_units': 397, 'n_layers': 3, 'dropout_rate': 0.23951426658526798, 'learning_rate': 0.00010453084827783551}. Best is trial 5 with value: 0.6225000023841858.\n",
            "[I 2024-12-08 11:24:52,723] Trial 17 finished with value: 0.5950000286102295 and parameters: {'n_units': 463, 'n_layers': 3, 'dropout_rate': 0.3046176402808115, 'learning_rate': 0.000343850502945945}. Best is trial 5 with value: 0.6225000023841858.\n",
            "[I 2024-12-08 11:25:06,266] Trial 18 finished with value: 0.6075000166893005 and parameters: {'n_units': 390, 'n_layers': 3, 'dropout_rate': 0.15770923179707247, 'learning_rate': 0.0002887164990072515}. Best is trial 5 with value: 0.6225000023841858.\n",
            "[I 2024-12-08 11:25:16,413] Trial 19 finished with value: 0.5525000095367432 and parameters: {'n_units': 296, 'n_layers': 3, 'dropout_rate': 0.29852723822403077, 'learning_rate': 0.000905929305834784}. Best is trial 5 with value: 0.6225000023841858.\n",
            "[I 2024-12-08 11:25:32,019] Trial 20 finished with value: 0.5874999761581421 and parameters: {'n_units': 477, 'n_layers': 3, 'dropout_rate': 0.20637439822137632, 'learning_rate': 0.0001427373917904109}. Best is trial 5 with value: 0.6225000023841858.\n",
            "[I 2024-12-08 11:25:45,789] Trial 21 finished with value: 0.5649999976158142 and parameters: {'n_units': 401, 'n_layers': 3, 'dropout_rate': 0.15308912031952523, 'learning_rate': 0.00029508786929500336}. Best is trial 5 with value: 0.6225000023841858.\n",
            "[I 2024-12-08 11:25:59,919] Trial 22 finished with value: 0.5649999976158142 and parameters: {'n_units': 425, 'n_layers': 3, 'dropout_rate': 0.13879956437352817, 'learning_rate': 0.00027864516571378834}. Best is trial 5 with value: 0.6225000023841858.\n",
            "[I 2024-12-08 11:26:13,458] Trial 23 finished with value: 0.5400000214576721 and parameters: {'n_units': 366, 'n_layers': 3, 'dropout_rate': 0.16808506434657802, 'learning_rate': 0.0004610392589442323}. Best is trial 5 with value: 0.6225000023841858.\n",
            "[I 2024-12-08 11:26:28,372] Trial 24 finished with value: 0.6000000238418579 and parameters: {'n_units': 471, 'n_layers': 2, 'dropout_rate': 0.13719679612881688, 'learning_rate': 0.0007548832784166438}. Best is trial 5 with value: 0.6225000023841858.\n",
            "[I 2024-12-08 11:26:36,763] Trial 25 finished with value: 0.5950000286102295 and parameters: {'n_units': 287, 'n_layers': 3, 'dropout_rate': 0.18885694746978882, 'learning_rate': 0.0002456880318455798}. Best is trial 5 with value: 0.6225000023841858.\n",
            "[I 2024-12-08 11:26:45,354] Trial 26 finished with value: 0.5950000286102295 and parameters: {'n_units': 157, 'n_layers': 3, 'dropout_rate': 0.21979317554001745, 'learning_rate': 0.00015010254437581848}. Best is trial 5 with value: 0.6225000023841858.\n",
            "[I 2024-12-08 11:26:55,591] Trial 27 finished with value: 0.5525000095367432 and parameters: {'n_units': 410, 'n_layers': 2, 'dropout_rate': 0.28943095398126206, 'learning_rate': 0.0017098345865069389}. Best is trial 5 with value: 0.6225000023841858.\n",
            "[I 2024-12-08 11:27:10,390] Trial 28 finished with value: 0.5924999713897705 and parameters: {'n_units': 445, 'n_layers': 3, 'dropout_rate': 0.16841092054263818, 'learning_rate': 0.00036447705192677553}. Best is trial 5 with value: 0.6225000023841858.\n",
            "[I 2024-12-08 11:27:23,476] Trial 29 finished with value: 0.4950000047683716 and parameters: {'n_units': 481, 'n_layers': 2, 'dropout_rate': 0.23264617188312087, 'learning_rate': 0.005160277536411912}. Best is trial 5 with value: 0.6225000023841858.\n",
            "[I 2024-12-08 11:27:37,420] Trial 30 finished with value: 0.6075000166893005 and parameters: {'n_units': 372, 'n_layers': 3, 'dropout_rate': 0.2750342574581106, 'learning_rate': 0.000682598420018498}. Best is trial 5 with value: 0.6225000023841858.\n",
            "[I 2024-12-08 11:27:50,081] Trial 31 finished with value: 0.5849999785423279 and parameters: {'n_units': 370, 'n_layers': 3, 'dropout_rate': 0.3489212355354523, 'learning_rate': 0.0006938148699983054}. Best is trial 5 with value: 0.6225000023841858.\n",
            "[I 2024-12-08 11:28:02,021] Trial 32 finished with value: 0.5975000262260437 and parameters: {'n_units': 337, 'n_layers': 3, 'dropout_rate': 0.2719498119270679, 'learning_rate': 0.0013366602044741795}. Best is trial 5 with value: 0.6225000023841858.\n",
            "[I 2024-12-08 11:28:16,349] Trial 33 finished with value: 0.5400000214576721 and parameters: {'n_units': 376, 'n_layers': 3, 'dropout_rate': 0.39565001773718195, 'learning_rate': 0.00018920272484092583}. Best is trial 5 with value: 0.6225000023841858.\n",
            "[I 2024-12-08 11:28:29,903] Trial 34 finished with value: 0.5975000262260437 and parameters: {'n_units': 341, 'n_layers': 3, 'dropout_rate': 0.12864426831662293, 'learning_rate': 0.00041828989259667324}. Best is trial 5 with value: 0.6225000023841858.\n",
            "[I 2024-12-08 11:28:48,226] Trial 35 finished with value: 0.6775000095367432 and parameters: {'n_units': 511, 'n_layers': 3, 'dropout_rate': 0.1835570095565665, 'learning_rate': 0.008824804607434188}. Best is trial 35 with value: 0.6775000095367432.\n",
            "[I 2024-12-08 11:29:04,323] Trial 36 finished with value: 0.3375000059604645 and parameters: {'n_units': 510, 'n_layers': 3, 'dropout_rate': 0.1872673694732854, 'learning_rate': 0.0088565661253258}. Best is trial 35 with value: 0.6775000095367432.\n",
            "[I 2024-12-08 11:29:17,354] Trial 37 finished with value: 0.6175000071525574 and parameters: {'n_units': 487, 'n_layers': 2, 'dropout_rate': 0.12118991478530708, 'learning_rate': 0.003621888109371276}. Best is trial 35 with value: 0.6775000095367432.\n",
            "[I 2024-12-08 11:29:30,556] Trial 38 finished with value: 0.5525000095367432 and parameters: {'n_units': 487, 'n_layers': 2, 'dropout_rate': 0.11747050164679361, 'learning_rate': 0.003798891953973132}. Best is trial 35 with value: 0.6775000095367432.\n",
            "[I 2024-12-08 11:29:44,816] Trial 39 finished with value: 0.45249998569488525 and parameters: {'n_units': 456, 'n_layers': 2, 'dropout_rate': 0.2003630485793324, 'learning_rate': 0.009556990865127313}. Best is trial 35 with value: 0.6775000095367432.\n",
            "[I 2024-12-08 11:30:00,745] Trial 40 finished with value: 0.4724999964237213 and parameters: {'n_units': 492, 'n_layers': 2, 'dropout_rate': 0.12037148634426943, 'learning_rate': 0.006889926878753905}. Best is trial 35 with value: 0.6775000095367432.\n",
            "[I 2024-12-08 11:30:15,420] Trial 41 finished with value: 0.512499988079071 and parameters: {'n_units': 456, 'n_layers': 3, 'dropout_rate': 0.15303459664821983, 'learning_rate': 0.0034420731546265532}. Best is trial 35 with value: 0.6775000095367432.\n",
            "[I 2024-12-08 11:30:23,537] Trial 42 finished with value: 0.5099999904632568 and parameters: {'n_units': 494, 'n_layers': 1, 'dropout_rate': 0.1022257355171158, 'learning_rate': 0.005275574538260079}. Best is trial 35 with value: 0.6775000095367432.\n",
            "[I 2024-12-08 11:30:34,480] Trial 43 finished with value: 0.6225000023841858 and parameters: {'n_units': 421, 'n_layers': 2, 'dropout_rate': 0.17144598269850475, 'learning_rate': 0.0024368082499325386}. Best is trial 35 with value: 0.6775000095367432.\n",
            "[I 2024-12-08 11:30:49,729] Trial 44 finished with value: 0.5899999737739563 and parameters: {'n_units': 512, 'n_layers': 2, 'dropout_rate': 0.17641880370093588, 'learning_rate': 0.0023518764204385955}. Best is trial 35 with value: 0.6775000095367432.\n",
            "[I 2024-12-08 11:30:59,837] Trial 45 finished with value: 0.5224999785423279 and parameters: {'n_units': 418, 'n_layers': 2, 'dropout_rate': 0.13843959882069365, 'learning_rate': 0.003981573897384749}. Best is trial 35 with value: 0.6775000095367432.\n",
            "[I 2024-12-08 11:31:13,171] Trial 46 finished with value: 0.5600000023841858 and parameters: {'n_units': 446, 'n_layers': 2, 'dropout_rate': 0.22026406699981832, 'learning_rate': 0.0013343298878743426}. Best is trial 35 with value: 0.6775000095367432.\n",
            "[I 2024-12-08 11:31:21,390] Trial 47 finished with value: 0.5924999713897705 and parameters: {'n_units': 472, 'n_layers': 1, 'dropout_rate': 0.12395029580699488, 'learning_rate': 0.006810889391701753}. Best is trial 35 with value: 0.6775000095367432.\n",
            "[I 2024-12-08 11:31:34,946] Trial 48 finished with value: 0.6424999833106995 and parameters: {'n_units': 493, 'n_layers': 2, 'dropout_rate': 0.18370425657945194, 'learning_rate': 0.003087878879252286}. Best is trial 35 with value: 0.6775000095367432.\n",
            "[I 2024-12-08 11:31:49,087] Trial 49 finished with value: 0.5649999976158142 and parameters: {'n_units': 499, 'n_layers': 2, 'dropout_rate': 0.1894024715089873, 'learning_rate': 0.002832692821221754}. Best is trial 35 with value: 0.6775000095367432.\n"
          ]
        },
        {
          "output_type": "stream",
          "name": "stdout",
          "text": [
            "Best hyperparameters: {'n_units': 511, 'n_layers': 3, 'dropout_rate': 0.1835570095565665, 'learning_rate': 0.008824804607434188}\n",
            "Best accuracy: 0.6775000095367432\n"
          ]
        }
      ]
    },
    {
      "cell_type": "code",
      "source": [
        "best_params = study.best_params\n",
        "\n",
        "final_model = Sequential()\n",
        "final_model.add(Dense(best_params['n_units'], activation='relu', input_shape=(X_train_resampled.shape[1],)))\n",
        "final_model.add(Dropout(best_params['dropout_rate']))\n",
        "\n",
        "for _ in range(best_params['n_layers'] - 1):\n",
        "    final_model.add(Dense(best_params['n_units'], activation='relu'))\n",
        "    final_model.add(Dropout(best_params['dropout_rate']))\n",
        "\n",
        "final_model.add(Dense(1, activation='sigmoid'))"
      ],
      "metadata": {
        "id": "f0LpZwXI6F20"
      },
      "execution_count": null,
      "outputs": []
    },
    {
      "cell_type": "code",
      "source": [
        "final_model.compile(optimizer=Adam(learning_rate=best_params['learning_rate']),\n",
        "                    loss='binary_crossentropy',\n",
        "                    metrics=['accuracy'])"
      ],
      "metadata": {
        "id": "jyWfaOpF6CuH"
      },
      "execution_count": null,
      "outputs": []
    },
    {
      "cell_type": "code",
      "source": [
        "final_model.fit(X_train_resampled, y_train_resampled,\n",
        "                validation_data=(X_test, y_test),\n",
        "                epochs=20, batch_size=32, verbose=1)"
      ],
      "metadata": {
        "colab": {
          "base_uri": "https://localhost:8080/"
        },
        "id": "Z92mGijc6Ldu",
        "outputId": "78e23902-ca8b-473a-8204-25c434869754"
      },
      "execution_count": null,
      "outputs": [
        {
          "output_type": "stream",
          "name": "stdout",
          "text": [
            "Epoch 1/20\n",
            "\u001b[1m68/68\u001b[0m \u001b[32m━━━━━━━━━━━━━━━━━━━━\u001b[0m\u001b[37m\u001b[0m \u001b[1m6s\u001b[0m 41ms/step - accuracy: 0.5071 - loss: 3.6127 - val_accuracy: 0.5150 - val_loss: 0.7232\n",
            "Epoch 2/20\n",
            "\u001b[1m68/68\u001b[0m \u001b[32m━━━━━━━━━━━━━━━━━━━━\u001b[0m\u001b[37m\u001b[0m \u001b[1m1s\u001b[0m 17ms/step - accuracy: 0.5179 - loss: 0.7084 - val_accuracy: 0.4000 - val_loss: 0.7226\n",
            "Epoch 3/20\n",
            "\u001b[1m68/68\u001b[0m \u001b[32m━━━━━━━━━━━━━━━━━━━━\u001b[0m\u001b[37m\u001b[0m \u001b[1m2s\u001b[0m 25ms/step - accuracy: 0.5310 - loss: 0.6983 - val_accuracy: 0.4225 - val_loss: 0.7128\n",
            "Epoch 4/20\n",
            "\u001b[1m68/68\u001b[0m \u001b[32m━━━━━━━━━━━━━━━━━━━━\u001b[0m\u001b[37m\u001b[0m \u001b[1m3s\u001b[0m 28ms/step - accuracy: 0.5295 - loss: 0.6847 - val_accuracy: 0.5150 - val_loss: 0.6884\n",
            "Epoch 5/20\n",
            "\u001b[1m68/68\u001b[0m \u001b[32m━━━━━━━━━━━━━━━━━━━━\u001b[0m\u001b[37m\u001b[0m \u001b[1m2s\u001b[0m 16ms/step - accuracy: 0.5694 - loss: 0.6833 - val_accuracy: 0.5625 - val_loss: 0.6792\n",
            "Epoch 6/20\n",
            "\u001b[1m68/68\u001b[0m \u001b[32m━━━━━━━━━━━━━━━━━━━━\u001b[0m\u001b[37m\u001b[0m \u001b[1m1s\u001b[0m 16ms/step - accuracy: 0.5232 - loss: 0.6911 - val_accuracy: 0.5775 - val_loss: 0.6695\n",
            "Epoch 7/20\n",
            "\u001b[1m68/68\u001b[0m \u001b[32m━━━━━━━━━━━━━━━━━━━━\u001b[0m\u001b[37m\u001b[0m \u001b[1m1s\u001b[0m 16ms/step - accuracy: 0.5912 - loss: 0.6663 - val_accuracy: 0.3500 - val_loss: 0.7459\n",
            "Epoch 8/20\n",
            "\u001b[1m68/68\u001b[0m \u001b[32m━━━━━━━━━━━━━━━━━━━━\u001b[0m\u001b[37m\u001b[0m \u001b[1m1s\u001b[0m 16ms/step - accuracy: 0.5525 - loss: 0.6962 - val_accuracy: 0.3450 - val_loss: 0.7308\n",
            "Epoch 9/20\n",
            "\u001b[1m68/68\u001b[0m \u001b[32m━━━━━━━━━━━━━━━━━━━━\u001b[0m\u001b[37m\u001b[0m \u001b[1m1s\u001b[0m 16ms/step - accuracy: 0.5360 - loss: 0.7133 - val_accuracy: 0.3275 - val_loss: 0.7380\n",
            "Epoch 10/20\n",
            "\u001b[1m68/68\u001b[0m \u001b[32m━━━━━━━━━━━━━━━━━━━━\u001b[0m\u001b[37m\u001b[0m \u001b[1m1s\u001b[0m 16ms/step - accuracy: 0.5021 - loss: 0.7777 - val_accuracy: 0.4050 - val_loss: 0.6911\n",
            "Epoch 11/20\n",
            "\u001b[1m68/68\u001b[0m \u001b[32m━━━━━━━━━━━━━━━━━━━━\u001b[0m\u001b[37m\u001b[0m \u001b[1m1s\u001b[0m 16ms/step - accuracy: 0.5341 - loss: 0.7320 - val_accuracy: 0.3375 - val_loss: 0.7077\n",
            "Epoch 12/20\n",
            "\u001b[1m68/68\u001b[0m \u001b[32m━━━━━━━━━━━━━━━━━━━━\u001b[0m\u001b[37m\u001b[0m \u001b[1m1s\u001b[0m 19ms/step - accuracy: 0.5196 - loss: 0.8218 - val_accuracy: 0.4600 - val_loss: 0.6906\n",
            "Epoch 13/20\n",
            "\u001b[1m68/68\u001b[0m \u001b[32m━━━━━━━━━━━━━━━━━━━━\u001b[0m\u001b[37m\u001b[0m \u001b[1m3s\u001b[0m 26ms/step - accuracy: 0.5510 - loss: 0.7335 - val_accuracy: 0.3225 - val_loss: 0.7351\n",
            "Epoch 14/20\n",
            "\u001b[1m68/68\u001b[0m \u001b[32m━━━━━━━━━━━━━━━━━━━━\u001b[0m\u001b[37m\u001b[0m \u001b[1m2s\u001b[0m 21ms/step - accuracy: 0.5266 - loss: 0.7006 - val_accuracy: 0.3225 - val_loss: 0.7882\n",
            "Epoch 15/20\n",
            "\u001b[1m68/68\u001b[0m \u001b[32m━━━━━━━━━━━━━━━━━━━━\u001b[0m\u001b[37m\u001b[0m \u001b[1m2s\u001b[0m 16ms/step - accuracy: 0.5113 - loss: 0.7192 - val_accuracy: 0.5175 - val_loss: 0.7060\n",
            "Epoch 16/20\n",
            "\u001b[1m68/68\u001b[0m \u001b[32m━━━━━━━━━━━━━━━━━━━━\u001b[0m\u001b[37m\u001b[0m \u001b[1m1s\u001b[0m 17ms/step - accuracy: 0.5201 - loss: 0.7484 - val_accuracy: 0.3225 - val_loss: 0.7001\n",
            "Epoch 17/20\n",
            "\u001b[1m68/68\u001b[0m \u001b[32m━━━━━━━━━━━━━━━━━━━━\u001b[0m\u001b[37m\u001b[0m \u001b[1m1s\u001b[0m 17ms/step - accuracy: 0.5002 - loss: 0.7022 - val_accuracy: 0.6775 - val_loss: 0.6913\n",
            "Epoch 18/20\n",
            "\u001b[1m68/68\u001b[0m \u001b[32m━━━━━━━━━━━━━━━━━━━━\u001b[0m\u001b[37m\u001b[0m \u001b[1m1s\u001b[0m 16ms/step - accuracy: 0.4952 - loss: 0.7038 - val_accuracy: 0.3225 - val_loss: 0.6956\n",
            "Epoch 19/20\n",
            "\u001b[1m68/68\u001b[0m \u001b[32m━━━━━━━━━━━━━━━━━━━━\u001b[0m\u001b[37m\u001b[0m \u001b[1m1s\u001b[0m 17ms/step - accuracy: 0.5031 - loss: 0.6940 - val_accuracy: 0.3250 - val_loss: 0.6949\n",
            "Epoch 20/20\n",
            "\u001b[1m68/68\u001b[0m \u001b[32m━━━━━━━━━━━━━━━━━━━━\u001b[0m\u001b[37m\u001b[0m \u001b[1m1s\u001b[0m 17ms/step - accuracy: 0.4873 - loss: 0.7164 - val_accuracy: 0.6775 - val_loss: 0.6924\n"
          ]
        },
        {
          "output_type": "execute_result",
          "data": {
            "text/plain": [
              "<keras.src.callbacks.history.History at 0x7e7fd863b460>"
            ]
          },
          "metadata": {},
          "execution_count": 63
        }
      ]
    },
    {
      "cell_type": "markdown",
      "source": [
        "Optuna-tuned NN shows noticeable improvement in validation accuracy compared to the baseline NN, suggesting it better captures patterns in the dataset."
      ],
      "metadata": {
        "id": "ACbO8H9e31M4"
      }
    },
    {
      "cell_type": "markdown",
      "source": [
        "### Key Takeaways"
      ],
      "metadata": {
        "id": "TjKjId9m5cq1"
      }
    },
    {
      "cell_type": "markdown",
      "source": [
        "**1. Class Imbalance:**\n",
        "\n",
        "All models struggle with class 0 (non-hate), as evident from low precision and recall. Addressing this imbalance is critical, perhaps through:\n",
        "\n",
        "*   Oversampling/undersampling.\n",
        "*   Class-weighted losses.\n",
        "\n",
        "**2. Feature Non-Linearity:**\n",
        "\n",
        "Models like XGBoost and Neural Networks performed marginally better, hinting that feature interactions are non-linear. Further exploration of model architectures or embeddings could help.\n",
        "\n",
        "**3. Neural Network Optimization:**\n",
        "\n",
        "The Optuna-tuned neural network showed the best performance but still lacks generalization. Techniques to try:\n",
        "\n",
        "*   Early stopping to avoid overfitting.\n",
        "*   Data augmentation (e.g., pitch shifting, noise injection for audio).\n",
        "*   Larger batch sizes or dropout adjustments.\n",
        "\n",
        "**4. Feature Engineering:**\n",
        "\n",
        "Beyond wav2vec, consider feature reduction or representation learning techniques like PCA or embeddings.\n",
        "\n",
        "**5. Next Steps:**\n",
        "\n",
        "*   Experiment with imbalanced-learn techniques (SMOTE, ADASYN).\n",
        "*   Consider ensembles like stacked models combining NN and tree-based methods.\n",
        "*   Evaluate metrics like precision-recall AUC for imbalanced datasets."
      ],
      "metadata": {
        "id": "eXF0KFJS3_HK"
      }
    },
    {
      "cell_type": "code",
      "source": [
        "import matplotlib.pyplot as plt\n",
        "import numpy as np\n",
        "\n",
        "models = [\n",
        "    \"Logistic Regression\",\n",
        "    \"Random Forest\",\n",
        "    \"XGBoost\",\n",
        "    \"GridSearchCV LR\",\n",
        "    \"Neural Network\",\n",
        "    \"Optuna-Tuned NN\"\n",
        "]\n",
        "\n",
        "accuracy = [57.75, 61, 58, 60.37, 55.75, 67.75]\n",
        "auc_roc = [0.54, 0.53, 0.52, None, None, None]\n",
        "f1_scores_class_0 = [0.27, 0.32, 0.26, None, None, None]\n",
        "f1_scores_class_1 = [0.70, 0.73, 0.70, None, None, None]"
      ],
      "metadata": {
        "id": "RH7yXiB06gqU"
      },
      "execution_count": null,
      "outputs": []
    },
    {
      "cell_type": "code",
      "source": [
        "fig, axs = plt.subplots(2, 2, figsize=(14, 10))\n",
        "fig.suptitle('Model Performance Metrics', fontsize=16)\n",
        "\n",
        "axs[0, 0].bar(models, accuracy, color='skyblue')\n",
        "axs[0, 0].set_title('Accuracy (%)')\n",
        "axs[0, 0].set_ylabel('Accuracy')\n",
        "axs[0, 0].set_ylim(0, 100)\n",
        "axs[0, 0].tick_params(axis='x', rotation=15)\n",
        "\n",
        "axs[0, 1].bar(models[:3], auc_roc[:3], color='orange')\n",
        "axs[0, 1].set_title('AUC-ROC')\n",
        "axs[0, 1].set_ylabel('AUC-ROC')\n",
        "axs[0, 1].set_ylim(0, 1)\n",
        "axs[0, 1].tick_params(axis='x', rotation=15)\n",
        "\n",
        "axs[1, 0].bar(models[:3], f1_scores_class_0[:3], color='lightgreen')\n",
        "axs[1, 0].set_title('F1-Score for Class 0 (Non-Hate)')\n",
        "axs[1, 0].set_ylabel('F1-Score')\n",
        "axs[1, 0].set_ylim(0, 1)\n",
        "axs[1, 0].tick_params(axis='x', rotation=15)\n",
        "\n",
        "axs[1, 1].bar(models[:3], f1_scores_class_1[:3], color='salmon')\n",
        "axs[1, 1].set_title('F1-Score for Class 1 (Hate)')\n",
        "axs[1, 1].set_ylabel('F1-Score')\n",
        "axs[1, 1].set_ylim(0, 1)\n",
        "axs[1, 1].tick_params(axis='x', rotation=15)\n",
        "\n",
        "plt.tight_layout(rect=[0, 0.03, 1, 0.95])\n",
        "plt.show()"
      ],
      "metadata": {
        "colab": {
          "base_uri": "https://localhost:8080/",
          "height": 972
        },
        "id": "qWDl47jk6azl",
        "outputId": "471fcdf3-b34e-4d62-c9cb-fc30b0c80e1f"
      },
      "execution_count": null,
      "outputs": [
        {
          "output_type": "display_data",
          "data": {
            "text/plain": [
              "<Figure size 1400x1000 with 4 Axes>"
            ],
            "image/png": "[encoded data removed]"
          },
          "metadata": {}
        }
      ]
    },
    {
      "cell_type": "markdown",
      "source": [
        "## Improved Models"
      ],
      "metadata": {
        "id": "wCIcWdAy5nm1"
      }
    },
    {
      "cell_type": "markdown",
      "source": [
        "### MLP"
      ],
      "metadata": {
        "id": "5HRznu3KGSRI"
      }
    },
    {
      "cell_type": "code",
      "source": [
        "from sklearn.neural_network import MLPClassifier\n",
        "mlp_deep = MLPClassifier(hidden_layer_sizes=(512, 256, 128), max_iter=500, random_state=42)"
      ],
      "metadata": {
        "id": "x-F14Gt9F4kV"
      },
      "execution_count": null,
      "outputs": []
    },
    {
      "cell_type": "code",
      "source": [
        "mlp_deep.fit(X_train_resampled, y_train_resampled)"
      ],
      "metadata": {
        "colab": {
          "base_uri": "https://localhost:8080/",
          "height": 80
        },
        "id": "2goe4fjZ5piv",
        "outputId": "34b6ea6d-a93a-4c6b-f5bd-32713c5838b8"
      },
      "execution_count": null,
      "outputs": [
        {
          "output_type": "execute_result",
          "data": {
            "text/plain": [
              "MLPClassifier(hidden_layer_sizes=(512, 256, 128), max_iter=500, random_state=42)"
            ],
            "text/html": [
              "<style>#sk-container-id-1 {\n",
              "  /* Definition of color scheme common for light and dark mode */\n",
              "  --sklearn-color-text: black;\n",
              "  --sklearn-color-line: gray;\n",
              "  /* Definition of color scheme for unfitted estimators */\n",
              "  --sklearn-color-unfitted-level-0: #fff5e6;\n",
              "  --sklearn-color-unfitted-level-1: #f6e4d2;\n",
              "  --sklearn-color-unfitted-level-2: #ffe0b3;\n",
              "  --sklearn-color-unfitted-level-3: chocolate;\n",
              "  /* Definition of color scheme for fitted estimators */\n",
              "  --sklearn-color-fitted-level-0: #f0f8ff;\n",
              "  --sklearn-color-fitted-level-1: #d4ebff;\n",
              "  --sklearn-color-fitted-level-2: #b3dbfd;\n",
              "  --sklearn-color-fitted-level-3: cornflowerblue;\n",
              "\n",
              "  /* Specific color for light theme */\n",
              "  --sklearn-color-text-on-default-background: var(--sg-text-color, var(--theme-code-foreground, var(--jp-content-font-color1, black)));\n",
              "  --sklearn-color-background: var(--sg-background-color, var(--theme-background, var(--jp-layout-color0, white)));\n",
              "  --sklearn-color-border-box: var(--sg-text-color, var(--theme-code-foreground, var(--jp-content-font-color1, black)));\n",
              "  --sklearn-color-icon: #696969;\n",
              "\n",
              "  @media (prefers-color-scheme: dark) {\n",
              "    /* Redefinition of color scheme for dark theme */\n",
              "    --sklearn-color-text-on-default-background: var(--sg-text-color, var(--theme-code-foreground, var(--jp-content-font-color1, white)));\n",
              "    --sklearn-color-background: var(--sg-background-color, var(--theme-background, var(--jp-layout-color0, #111)));\n",
              "    --sklearn-color-border-box: var(--sg-text-color, var(--theme-code-foreground, var(--jp-content-font-color1, white)));\n",
              "    --sklearn-color-icon: #878787;\n",
              "  }\n",
              "}\n",
              "\n",
              "#sk-container-id-1 {\n",
              "  color: var(--sklearn-color-text);\n",
              "}\n",
              "\n",
              "#sk-container-id-1 pre {\n",
              "  padding: 0;\n",
              "}\n",
              "\n",
              "#sk-container-id-1 input.sk-hidden--visually {\n",
              "  border: 0;\n",
              "  clip: rect(1px 1px 1px 1px);\n",
              "  clip: rect(1px, 1px, 1px, 1px);\n",
              "  height: 1px;\n",
              "  margin: -1px;\n",
              "  overflow: hidden;\n",
              "  padding: 0;\n",
              "  position: absolute;\n",
              "  width: 1px;\n",
              "}\n",
              "\n",
              "#sk-container-id-1 div.sk-dashed-wrapped {\n",
              "  border: 1px dashed var(--sklearn-color-line);\n",
              "  margin: 0 0.4em 0.5em 0.4em;\n",
              "  box-sizing: border-box;\n",
              "  padding-bottom: 0.4em;\n",
              "  background-color: var(--sklearn-color-background);\n",
              "}\n",
              "\n",
              "#sk-container-id-1 div.sk-container {\n",
              "  /* jupyter's `normalize.less` sets `[hidden] { display: none; }`\n",
              "     but bootstrap.min.css set `[hidden] { display: none !important; }`\n",
              "     so we also need the `!important` here to be able to override the\n",
              "     default hidden behavior on the sphinx rendered scikit-learn.org.\n",
              "     See: https://github.com/scikit-learn/scikit-learn/issues/21755 */\n",
              "  display: inline-block !important;\n",
              "  position: relative;\n",
              "}\n",
              "\n",
              "#sk-container-id-1 div.sk-text-repr-fallback {\n",
              "  display: none;\n",
              "}\n",
              "\n",
              "div.sk-parallel-item,\n",
              "div.sk-serial,\n",
              "div.sk-item {\n",
              "  /* draw centered vertical line to link estimators */\n",
              "  background-image: linear-gradient(var(--sklearn-color-text-on-default-background), var(--sklearn-color-text-on-default-background));\n",
              "  background-size: 2px 100%;\n",
              "  background-repeat: no-repeat;\n",
              "  background-position: center center;\n",
              "}\n",
              "\n",
              "/* Parallel-specific style estimator block */\n",
              "\n",
              "#sk-container-id-1 div.sk-parallel-item::after {\n",
              "  content: \"\";\n",
              "  width: 100%;\n",
              "  border-bottom: 2px solid var(--sklearn-color-text-on-default-background);\n",
              "  flex-grow: 1;\n",
              "}\n",
              "\n",
              "#sk-container-id-1 div.sk-parallel {\n",
              "  display: flex;\n",
              "  align-items: stretch;\n",
              "  justify-content: center;\n",
              "  background-color: var(--sklearn-color-background);\n",
              "  position: relative;\n",
              "}\n",
              "\n",
              "#sk-container-id-1 div.sk-parallel-item {\n",
              "  display: flex;\n",
              "  flex-direction: column;\n",
              "}\n",
              "\n",
              "#sk-container-id-1 div.sk-parallel-item:first-child::after {\n",
              "  align-self: flex-end;\n",
              "  width: 50%;\n",
              "}\n",
              "\n",
              "#sk-container-id-1 div.sk-parallel-item:last-child::after {\n",
              "  align-self: flex-start;\n",
              "  width: 50%;\n",
              "}\n",
              "\n",
              "#sk-container-id-1 div.sk-parallel-item:only-child::after {\n",
              "  width: 0;\n",
              "}\n",
              "\n",
              "/* Serial-specific style estimator block */\n",
              "\n",
              "#sk-container-id-1 div.sk-serial {\n",
              "  display: flex;\n",
              "  flex-direction: column;\n",
              "  align-items: center;\n",
              "  background-color: var(--sklearn-color-background);\n",
              "  padding-right: 1em;\n",
              "  padding-left: 1em;\n",
              "}\n",
              "\n",
              "\n",
              "/* Toggleable style: style used for estimator/Pipeline/ColumnTransformer box that is\n",
              "clickable and can be expanded/collapsed.\n",
              "- Pipeline and ColumnTransformer use this feature and define the default style\n",
              "- Estimators will overwrite some part of the style using the `sk-estimator` class\n",
              "*/\n",
              "\n",
              "/* Pipeline and ColumnTransformer style (default) */\n",
              "\n",
              "#sk-container-id-1 div.sk-toggleable {\n",
              "  /* Default theme specific background. It is overwritten whether we have a\n",
              "  specific estimator or a Pipeline/ColumnTransformer */\n",
              "  background-color: var(--sklearn-color-background);\n",
              "}\n",
              "\n",
              "/* Toggleable label */\n",
              "#sk-container-id-1 label.sk-toggleable__label {\n",
              "  cursor: pointer;\n",
              "  display: block;\n",
              "  width: 100%;\n",
              "  margin-bottom: 0;\n",
              "  padding: 0.5em;\n",
              "  box-sizing: border-box;\n",
              "  text-align: center;\n",
              "}\n",
              "\n",
              "#sk-container-id-1 label.sk-toggleable__label-arrow:before {\n",
              "  /* Arrow on the left of the label */\n",
              "  content: \"▸\";\n",
              "  float: left;\n",
              "  margin-right: 0.25em;\n",
              "  color: var(--sklearn-color-icon);\n",
              "}\n",
              "\n",
              "#sk-container-id-1 label.sk-toggleable__label-arrow:hover:before {\n",
              "  color: var(--sklearn-color-text);\n",
              "}\n",
              "\n",
              "/* Toggleable content - dropdown */\n",
              "\n",
              "#sk-container-id-1 div.sk-toggleable__content {\n",
              "  max-height: 0;\n",
              "  max-width: 0;\n",
              "  overflow: hidden;\n",
              "  text-align: left;\n",
              "  /* unfitted */\n",
              "  background-color: var(--sklearn-color-unfitted-level-0);\n",
              "}\n",
              "\n",
              "#sk-container-id-1 div.sk-toggleable__content.fitted {\n",
              "  /* fitted */\n",
              "  background-color: var(--sklearn-color-fitted-level-0);\n",
              "}\n",
              "\n",
              "#sk-container-id-1 div.sk-toggleable__content pre {\n",
              "  margin: 0.2em;\n",
              "  border-radius: 0.25em;\n",
              "  color: var(--sklearn-color-text);\n",
              "  /* unfitted */\n",
              "  background-color: var(--sklearn-color-unfitted-level-0);\n",
              "}\n",
              "\n",
              "#sk-container-id-1 div.sk-toggleable__content.fitted pre {\n",
              "  /* unfitted */\n",
              "  background-color: var(--sklearn-color-fitted-level-0);\n",
              "}\n",
              "\n",
              "#sk-container-id-1 input.sk-toggleable__control:checked~div.sk-toggleable__content {\n",
              "  /* Expand drop-down */\n",
              "  max-height: 200px;\n",
              "  max-width: 100%;\n",
              "  overflow: auto;\n",
              "}\n",
              "\n",
              "#sk-container-id-1 input.sk-toggleable__control:checked~label.sk-toggleable__label-arrow:before {\n",
              "  content: \"▾\";\n",
              "}\n",
              "\n",
              "/* Pipeline/ColumnTransformer-specific style */\n",
              "\n",
              "#sk-container-id-1 div.sk-label input.sk-toggleable__control:checked~label.sk-toggleable__label {\n",
              "  color: var(--sklearn-color-text);\n",
              "  background-color: var(--sklearn-color-unfitted-level-2);\n",
              "}\n",
              "\n",
              "#sk-container-id-1 div.sk-label.fitted input.sk-toggleable__control:checked~label.sk-toggleable__label {\n",
              "  background-color: var(--sklearn-color-fitted-level-2);\n",
              "}\n",
              "\n",
              "/* Estimator-specific style */\n",
              "\n",
              "/* Colorize estimator box */\n",
              "#sk-container-id-1 div.sk-estimator input.sk-toggleable__control:checked~label.sk-toggleable__label {\n",
              "  /* unfitted */\n",
              "  background-color: var(--sklearn-color-unfitted-level-2);\n",
              "}\n",
              "\n",
              "#sk-container-id-1 div.sk-estimator.fitted input.sk-toggleable__control:checked~label.sk-toggleable__label {\n",
              "  /* fitted */\n",
              "  background-color: var(--sklearn-color-fitted-level-2);\n",
              "}\n",
              "\n",
              "#sk-container-id-1 div.sk-label label.sk-toggleable__label,\n",
              "#sk-container-id-1 div.sk-label label {\n",
              "  /* The background is the default theme color */\n",
              "  color: var(--sklearn-color-text-on-default-background);\n",
              "}\n",
              "\n",
              "/* On hover, darken the color of the background */\n",
              "#sk-container-id-1 div.sk-label:hover label.sk-toggleable__label {\n",
              "  color: var(--sklearn-color-text);\n",
              "  background-color: var(--sklearn-color-unfitted-level-2);\n",
              "}\n",
              "\n",
              "/* Label box, darken color on hover, fitted */\n",
              "#sk-container-id-1 div.sk-label.fitted:hover label.sk-toggleable__label.fitted {\n",
              "  color: var(--sklearn-color-text);\n",
              "  background-color: var(--sklearn-color-fitted-level-2);\n",
              "}\n",
              "\n",
              "/* Estimator label */\n",
              "\n",
              "#sk-container-id-1 div.sk-label label {\n",
              "  font-family: monospace;\n",
              "  font-weight: bold;\n",
              "  display: inline-block;\n",
              "  line-height: 1.2em;\n",
              "}\n",
              "\n",
              "#sk-container-id-1 div.sk-label-container {\n",
              "  text-align: center;\n",
              "}\n",
              "\n",
              "/* Estimator-specific */\n",
              "#sk-container-id-1 div.sk-estimator {\n",
              "  font-family: monospace;\n",
              "  border: 1px dotted var(--sklearn-color-border-box);\n",
              "  border-radius: 0.25em;\n",
              "  box-sizing: border-box;\n",
              "  margin-bottom: 0.5em;\n",
              "  /* unfitted */\n",
              "  background-color: var(--sklearn-color-unfitted-level-0);\n",
              "}\n",
              "\n",
              "#sk-container-id-1 div.sk-estimator.fitted {\n",
              "  /* fitted */\n",
              "  background-color: var(--sklearn-color-fitted-level-0);\n",
              "}\n",
              "\n",
              "/* on hover */\n",
              "#sk-container-id-1 div.sk-estimator:hover {\n",
              "  /* unfitted */\n",
              "  background-color: var(--sklearn-color-unfitted-level-2);\n",
              "}\n",
              "\n",
              "#sk-container-id-1 div.sk-estimator.fitted:hover {\n",
              "  /* fitted */\n",
              "  background-color: var(--sklearn-color-fitted-level-2);\n",
              "}\n",
              "\n",
              "/* Specification for estimator info (e.g. \"i\" and \"?\") */\n",
              "\n",
              "/* Common style for \"i\" and \"?\" */\n",
              "\n",
              ".sk-estimator-doc-link,\n",
              "a:link.sk-estimator-doc-link,\n",
              "a:visited.sk-estimator-doc-link {\n",
              "  float: right;\n",
              "  font-size: smaller;\n",
              "  line-height: 1em;\n",
              "  font-family: monospace;\n",
              "  background-color: var(--sklearn-color-background);\n",
              "  border-radius: 1em;\n",
              "  height: 1em;\n",
              "  width: 1em;\n",
              "  text-decoration: none !important;\n",
              "  margin-left: 1ex;\n",
              "  /* unfitted */\n",
              "  border: var(--sklearn-color-unfitted-level-1) 1pt solid;\n",
              "  color: var(--sklearn-color-unfitted-level-1);\n",
              "}\n",
              "\n",
              ".sk-estimator-doc-link.fitted,\n",
              "a:link.sk-estimator-doc-link.fitted,\n",
              "a:visited.sk-estimator-doc-link.fitted {\n",
              "  /* fitted */\n",
              "  border: var(--sklearn-color-fitted-level-1) 1pt solid;\n",
              "  color: var(--sklearn-color-fitted-level-1);\n",
              "}\n",
              "\n",
              "/* On hover */\n",
              "div.sk-estimator:hover .sk-estimator-doc-link:hover,\n",
              ".sk-estimator-doc-link:hover,\n",
              "div.sk-label-container:hover .sk-estimator-doc-link:hover,\n",
              ".sk-estimator-doc-link:hover {\n",
              "  /* unfitted */\n",
              "  background-color: var(--sklearn-color-unfitted-level-3);\n",
              "  color: var(--sklearn-color-background);\n",
              "  text-decoration: none;\n",
              "}\n",
              "\n",
              "div.sk-estimator.fitted:hover .sk-estimator-doc-link.fitted:hover,\n",
              ".sk-estimator-doc-link.fitted:hover,\n",
              "div.sk-label-container:hover .sk-estimator-doc-link.fitted:hover,\n",
              ".sk-estimator-doc-link.fitted:hover {\n",
              "  /* fitted */\n",
              "  background-color: var(--sklearn-color-fitted-level-3);\n",
              "  color: var(--sklearn-color-background);\n",
              "  text-decoration: none;\n",
              "}\n",
              "\n",
              "/* Span, style for the box shown on hovering the info icon */\n",
              ".sk-estimator-doc-link span {\n",
              "  display: none;\n",
              "  z-index: 9999;\n",
              "  position: relative;\n",
              "  font-weight: normal;\n",
              "  right: .2ex;\n",
              "  padding: .5ex;\n",
              "  margin: .5ex;\n",
              "  width: min-content;\n",
              "  min-width: 20ex;\n",
              "  max-width: 50ex;\n",
              "  color: var(--sklearn-color-text);\n",
              "  box-shadow: 2pt 2pt 4pt #999;\n",
              "  /* unfitted */\n",
              "  background: var(--sklearn-color-unfitted-level-0);\n",
              "  border: .5pt solid var(--sklearn-color-unfitted-level-3);\n",
              "}\n",
              "\n",
              ".sk-estimator-doc-link.fitted span {\n",
              "  /* fitted */\n",
              "  background: var(--sklearn-color-fitted-level-0);\n",
              "  border: var(--sklearn-color-fitted-level-3);\n",
              "}\n",
              "\n",
              ".sk-estimator-doc-link:hover span {\n",
              "  display: block;\n",
              "}\n",
              "\n",
              "/* \"?\"-specific style due to the `<a>` HTML tag */\n",
              "\n",
              "#sk-container-id-1 a.estimator_doc_link {\n",
              "  float: right;\n",
              "  font-size: 1rem;\n",
              "  line-height: 1em;\n",
              "  font-family: monospace;\n",
              "  background-color: var(--sklearn-color-background);\n",
              "  border-radius: 1rem;\n",
              "  height: 1rem;\n",
              "  width: 1rem;\n",
              "  text-decoration: none;\n",
              "  /* unfitted */\n",
              "  color: var(--sklearn-color-unfitted-level-1);\n",
              "  border: var(--sklearn-color-unfitted-level-1) 1pt solid;\n",
              "}\n",
              "\n",
              "#sk-container-id-1 a.estimator_doc_link.fitted {\n",
              "  /* fitted */\n",
              "  border: var(--sklearn-color-fitted-level-1) 1pt solid;\n",
              "  color: var(--sklearn-color-fitted-level-1);\n",
              "}\n",
              "\n",
              "/* On hover */\n",
              "#sk-container-id-1 a.estimator_doc_link:hover {\n",
              "  /* unfitted */\n",
              "  background-color: var(--sklearn-color-unfitted-level-3);\n",
              "  color: var(--sklearn-color-background);\n",
              "  text-decoration: none;\n",
              "}\n",
              "\n",
              "#sk-container-id-1 a.estimator_doc_link.fitted:hover {\n",
              "  /* fitted */\n",
              "  background-color: var(--sklearn-color-fitted-level-3);\n",
              "}\n",
              "</style><div id=\"sk-container-id-1\" class=\"sk-top-container\"><div class=\"sk-text-repr-fallback\"><pre>MLPClassifier(hidden_layer_sizes=(512, 256, 128), max_iter=500, random_state=42)</pre><b>In a Jupyter environment, please rerun this cell to show the HTML representation or trust the notebook. <br />On GitHub, the HTML representation is unable to render, please try loading this page with nbviewer.org.</b></div><div class=\"sk-container\" hidden><div class=\"sk-item\"><div class=\"sk-estimator fitted sk-toggleable\"><input class=\"sk-toggleable__control sk-hidden--visually\" id=\"sk-estimator-id-1\" type=\"checkbox\" checked><label for=\"sk-estimator-id-1\" class=\"sk-toggleable__label fitted sk-toggleable__label-arrow fitted\">&nbsp;&nbsp;MLPClassifier<a class=\"sk-estimator-doc-link fitted\" rel=\"noreferrer\" target=\"_blank\" href=\"https://scikit-learn.org/1.5/modules/generated/sklearn.neural_network.MLPClassifier.html\">?<span>Documentation for MLPClassifier</span></a><span class=\"sk-estimator-doc-link fitted\">i<span>Fitted</span></span></label><div class=\"sk-toggleable__content fitted\"><pre>MLPClassifier(hidden_layer_sizes=(512, 256, 128), max_iter=500, random_state=42)</pre></div> </div></div></div></div>"
            ]
          },
          "metadata": {},
          "execution_count": 73
        }
      ]
    },
    {
      "cell_type": "code",
      "source": [
        "mlp_deep_accuracy = mlp_deep.score(X_test, y_test)\n",
        "print(f\"Test Accuracy for Deep NN: {mlp_deep_accuracy * 100:.2f}%\")"
      ],
      "metadata": {
        "colab": {
          "base_uri": "https://localhost:8080/"
        },
        "id": "9pmRTVK8F8Ow",
        "outputId": "e465ac6f-9fe9-4b9a-c325-7f14758c36d1"
      },
      "execution_count": null,
      "outputs": [
        {
          "output_type": "stream",
          "name": "stdout",
          "text": [
            "Test Accuracy for Deep NN: 58.25%\n"
          ]
        }
      ]
    },
    {
      "cell_type": "markdown",
      "source": [
        "### Advanced Neural Networks"
      ],
      "metadata": {
        "id": "WHwm1xw6GUSf"
      }
    },
    {
      "cell_type": "code",
      "source": [
        "from tensorflow.keras.models import Sequential\n",
        "from tensorflow.keras.layers import Dense, Dropout\n",
        "from tensorflow.keras.callbacks import EarlyStopping\n",
        "from tensorflow.keras.preprocessing.sequence import pad_sequences\n",
        "import numpy as np\n",
        "\n",
        "X_train_padded = pad_sequences(X_train_resampled, padding='post', maxlen=500)"
      ],
      "metadata": {
        "id": "LJ2K3rywGkCD"
      },
      "execution_count": null,
      "outputs": []
    },
    {
      "cell_type": "code",
      "source": [
        "model = Sequential([\n",
        "    Dense(512, activation='relu', input_dim=X_train_padded.shape[1]),\n",
        "    Dropout(0.3),\n",
        "    Dense(256, activation='relu'),\n",
        "    Dropout(0.3),\n",
        "    Dense(128, activation='relu'),\n",
        "    Dropout(0.3),\n",
        "    Dense(1, activation='sigmoid')\n",
        "])"
      ],
      "metadata": {
        "colab": {
          "base_uri": "https://localhost:8080/"
        },
        "id": "TnasTQiwGqPW",
        "outputId": "61fc0474-4e1d-43f3-8f51-4f1bf73369ff"
      },
      "execution_count": null,
      "outputs": [
        {
          "output_type": "stream",
          "name": "stderr",
          "text": [
            "/usr/local/lib/python3.10/dist-packages/keras/src/layers/core/dense.py:87: UserWarning: Do not pass an `input_shape`/`input_dim` argument to a layer. When using Sequential models, prefer using an `Input(shape)` object as the first layer in the model instead.\n",
            "  super().__init__(activity_regularizer=activity_regularizer, **kwargs)\n"
          ]
        }
      ]
    },
    {
      "cell_type": "code",
      "source": [
        "model.compile(optimizer='adam', loss='binary_crossentropy', metrics=['accuracy'])"
      ],
      "metadata": {
        "id": "MriMWacZGutZ"
      },
      "execution_count": null,
      "outputs": []
    },
    {
      "cell_type": "code",
      "source": [
        "early_stopping = EarlyStopping(monitor='val_loss', patience=10, restore_best_weights=True)"
      ],
      "metadata": {
        "id": "gvIR7GToGw5B"
      },
      "execution_count": null,
      "outputs": []
    },
    {
      "cell_type": "code",
      "source": [
        "history = model.fit(X_train_padded, y_train_resampled, validation_split=0.2, epochs=50, batch_size=32, callbacks=[early_stopping])"
      ],
      "metadata": {
        "colab": {
          "base_uri": "https://localhost:8080/"
        },
        "id": "JX257De3Gzeu",
        "outputId": "943e0f51-8fa9-4b54-a65a-fd924a841722"
      },
      "execution_count": null,
      "outputs": [
        {
          "output_type": "stream",
          "name": "stdout",
          "text": [
            "Epoch 1/50\n",
            "\u001b[1m55/55\u001b[0m \u001b[32m━━━━━━━━━━━━━━━━━━━━\u001b[0m\u001b[37m\u001b[0m \u001b[1m4s\u001b[0m 26ms/step - accuracy: 0.5578 - loss: 0.7267 - val_accuracy: 0.1106 - val_loss: 0.8571\n",
            "Epoch 2/50\n",
            "\u001b[1m55/55\u001b[0m \u001b[32m━━━━━━━━━━━━━━━━━━━━\u001b[0m\u001b[37m\u001b[0m \u001b[1m2s\u001b[0m 26ms/step - accuracy: 0.6154 - loss: 0.6520 - val_accuracy: 0.0783 - val_loss: 0.8940\n",
            "Epoch 3/50\n",
            "\u001b[1m55/55\u001b[0m \u001b[32m━━━━━━━━━━━━━━━━━━━━\u001b[0m\u001b[37m\u001b[0m \u001b[1m2s\u001b[0m 19ms/step - accuracy: 0.6645 - loss: 0.6261 - val_accuracy: 0.1544 - val_loss: 0.9284\n",
            "Epoch 4/50\n",
            "\u001b[1m55/55\u001b[0m \u001b[32m━━━━━━━━━━━━━━━━━━━━\u001b[0m\u001b[37m\u001b[0m \u001b[1m1s\u001b[0m 17ms/step - accuracy: 0.6937 - loss: 0.5874 - val_accuracy: 0.3180 - val_loss: 0.8022\n",
            "Epoch 5/50\n",
            "\u001b[1m55/55\u001b[0m \u001b[32m━━━━━━━━━━━━━━━━━━━━\u001b[0m\u001b[37m\u001b[0m \u001b[1m1s\u001b[0m 15ms/step - accuracy: 0.7098 - loss: 0.5757 - val_accuracy: 0.4885 - val_loss: 0.7043\n",
            "Epoch 6/50\n",
            "\u001b[1m55/55\u001b[0m \u001b[32m━━━━━━━━━━━━━━━━━━━━\u001b[0m\u001b[37m\u001b[0m \u001b[1m1s\u001b[0m 20ms/step - accuracy: 0.7675 - loss: 0.5127 - val_accuracy: 0.5760 - val_loss: 0.8058\n",
            "Epoch 7/50\n",
            "\u001b[1m55/55\u001b[0m \u001b[32m━━━━━━━━━━━━━━━━━━━━\u001b[0m\u001b[37m\u001b[0m \u001b[1m1s\u001b[0m 16ms/step - accuracy: 0.7792 - loss: 0.4914 - val_accuracy: 0.5461 - val_loss: 0.7063\n",
            "Epoch 8/50\n",
            "\u001b[1m55/55\u001b[0m \u001b[32m━━━━━━━━━━━━━━━━━━━━\u001b[0m\u001b[37m\u001b[0m \u001b[1m1s\u001b[0m 16ms/step - accuracy: 0.8128 - loss: 0.4127 - val_accuracy: 0.6705 - val_loss: 0.6437\n",
            "Epoch 9/50\n",
            "\u001b[1m55/55\u001b[0m \u001b[32m━━━━━━━━━━━━━━━━━━━━\u001b[0m\u001b[37m\u001b[0m \u001b[1m1s\u001b[0m 18ms/step - accuracy: 0.8543 - loss: 0.3541 - val_accuracy: 0.6475 - val_loss: 0.6421\n",
            "Epoch 10/50\n",
            "\u001b[1m55/55\u001b[0m \u001b[32m━━━━━━━━━━━━━━━━━━━━\u001b[0m\u001b[37m\u001b[0m \u001b[1m1s\u001b[0m 17ms/step - accuracy: 0.8716 - loss: 0.3182 - val_accuracy: 0.8341 - val_loss: 0.3846\n",
            "Epoch 11/50\n",
            "\u001b[1m55/55\u001b[0m \u001b[32m━━━━━━━━━━━━━━━━━━━━\u001b[0m\u001b[37m\u001b[0m \u001b[1m1s\u001b[0m 17ms/step - accuracy: 0.8562 - loss: 0.3493 - val_accuracy: 0.7028 - val_loss: 0.5808\n",
            "Epoch 12/50\n",
            "\u001b[1m55/55\u001b[0m \u001b[32m━━━━━━━━━━━━━━━━━━━━\u001b[0m\u001b[37m\u001b[0m \u001b[1m1s\u001b[0m 22ms/step - accuracy: 0.8825 - loss: 0.2871 - val_accuracy: 0.6567 - val_loss: 0.8203\n",
            "Epoch 13/50\n",
            "\u001b[1m55/55\u001b[0m \u001b[32m━━━━━━━━━━━━━━━━━━━━\u001b[0m\u001b[37m\u001b[0m \u001b[1m2s\u001b[0m 16ms/step - accuracy: 0.8973 - loss: 0.2817 - val_accuracy: 0.7627 - val_loss: 0.4715\n",
            "Epoch 14/50\n",
            "\u001b[1m55/55\u001b[0m \u001b[32m━━━━━━━━━━━━━━━━━━━━\u001b[0m\u001b[37m\u001b[0m \u001b[1m1s\u001b[0m 21ms/step - accuracy: 0.9120 - loss: 0.2139 - val_accuracy: 0.8180 - val_loss: 0.4087\n",
            "Epoch 15/50\n",
            "\u001b[1m55/55\u001b[0m \u001b[32m━━━━━━━━━━━━━━━━━━━━\u001b[0m\u001b[37m\u001b[0m \u001b[1m1s\u001b[0m 21ms/step - accuracy: 0.9235 - loss: 0.2036 - val_accuracy: 0.7235 - val_loss: 0.4971\n",
            "Epoch 16/50\n",
            "\u001b[1m55/55\u001b[0m \u001b[32m━━━━━━━━━━━━━━━━━━━━\u001b[0m\u001b[37m\u001b[0m \u001b[1m1s\u001b[0m 15ms/step - accuracy: 0.9319 - loss: 0.1957 - val_accuracy: 0.8088 - val_loss: 0.3970\n",
            "Epoch 17/50\n",
            "\u001b[1m55/55\u001b[0m \u001b[32m━━━━━━━━━━━━━━━━━━━━\u001b[0m\u001b[37m\u001b[0m \u001b[1m1s\u001b[0m 16ms/step - accuracy: 0.9443 - loss: 0.1534 - val_accuracy: 0.7581 - val_loss: 0.5162\n",
            "Epoch 18/50\n",
            "\u001b[1m55/55\u001b[0m \u001b[32m━━━━━━━━━━━━━━━━━━━━\u001b[0m\u001b[37m\u001b[0m \u001b[1m1s\u001b[0m 17ms/step - accuracy: 0.9471 - loss: 0.1313 - val_accuracy: 0.8387 - val_loss: 0.3661\n",
            "Epoch 19/50\n",
            "\u001b[1m55/55\u001b[0m \u001b[32m━━━━━━━━━━━━━━━━━━━━\u001b[0m\u001b[37m\u001b[0m \u001b[1m1s\u001b[0m 15ms/step - accuracy: 0.9472 - loss: 0.1301 - val_accuracy: 0.7350 - val_loss: 0.6430\n",
            "Epoch 20/50\n",
            "\u001b[1m55/55\u001b[0m \u001b[32m━━━━━━━━━━━━━━━━━━━━\u001b[0m\u001b[37m\u001b[0m \u001b[1m1s\u001b[0m 16ms/step - accuracy: 0.9584 - loss: 0.1160 - val_accuracy: 0.8295 - val_loss: 0.3957\n",
            "Epoch 21/50\n",
            "\u001b[1m55/55\u001b[0m \u001b[32m━━━━━━━━━━━━━━━━━━━━\u001b[0m\u001b[37m\u001b[0m \u001b[1m1s\u001b[0m 15ms/step - accuracy: 0.9461 - loss: 0.1358 - val_accuracy: 0.8249 - val_loss: 0.4335\n",
            "Epoch 22/50\n",
            "\u001b[1m55/55\u001b[0m \u001b[32m━━━━━━━━━━━━━━━━━━━━\u001b[0m\u001b[37m\u001b[0m \u001b[1m1s\u001b[0m 18ms/step - accuracy: 0.9583 - loss: 0.1309 - val_accuracy: 0.8065 - val_loss: 0.5348\n",
            "Epoch 23/50\n",
            "\u001b[1m55/55\u001b[0m \u001b[32m━━━━━━━━━━━━━━━━━━━━\u001b[0m\u001b[37m\u001b[0m \u001b[1m1s\u001b[0m 16ms/step - accuracy: 0.9457 - loss: 0.1238 - val_accuracy: 0.8157 - val_loss: 0.4902\n",
            "Epoch 24/50\n",
            "\u001b[1m55/55\u001b[0m \u001b[32m━━━━━━━━━━━━━━━━━━━━\u001b[0m\u001b[37m\u001b[0m \u001b[1m1s\u001b[0m 15ms/step - accuracy: 0.9570 - loss: 0.1289 - val_accuracy: 0.8065 - val_loss: 0.4257\n",
            "Epoch 25/50\n",
            "\u001b[1m55/55\u001b[0m \u001b[32m━━━━━━━━━━━━━━━━━━━━\u001b[0m\u001b[37m\u001b[0m \u001b[1m1s\u001b[0m 19ms/step - accuracy: 0.9564 - loss: 0.1218 - val_accuracy: 0.8111 - val_loss: 0.4467\n",
            "Epoch 26/50\n",
            "\u001b[1m55/55\u001b[0m \u001b[32m━━━━━━━━━━━━━━━━━━━━\u001b[0m\u001b[37m\u001b[0m \u001b[1m1s\u001b[0m 23ms/step - accuracy: 0.9772 - loss: 0.0748 - val_accuracy: 0.8871 - val_loss: 0.2956\n",
            "Epoch 27/50\n",
            "\u001b[1m55/55\u001b[0m \u001b[32m━━━━━━━━━━━━━━━━━━━━\u001b[0m\u001b[37m\u001b[0m \u001b[1m1s\u001b[0m 20ms/step - accuracy: 0.9470 - loss: 0.1153 - val_accuracy: 0.8940 - val_loss: 0.2862\n",
            "Epoch 28/50\n",
            "\u001b[1m55/55\u001b[0m \u001b[32m━━━━━━━━━━━━━━━━━━━━\u001b[0m\u001b[37m\u001b[0m \u001b[1m1s\u001b[0m 19ms/step - accuracy: 0.9763 - loss: 0.0751 - val_accuracy: 0.8641 - val_loss: 0.3671\n",
            "Epoch 29/50\n",
            "\u001b[1m55/55\u001b[0m \u001b[32m━━━━━━━━━━━━━━━━━━━━\u001b[0m\u001b[37m\u001b[0m \u001b[1m1s\u001b[0m 17ms/step - accuracy: 0.9711 - loss: 0.0874 - val_accuracy: 0.8733 - val_loss: 0.3479\n",
            "Epoch 30/50\n",
            "\u001b[1m55/55\u001b[0m \u001b[32m━━━━━━━━━━━━━━━━━━━━\u001b[0m\u001b[37m\u001b[0m \u001b[1m1s\u001b[0m 16ms/step - accuracy: 0.9743 - loss: 0.0646 - val_accuracy: 0.8733 - val_loss: 0.3440\n",
            "Epoch 31/50\n",
            "\u001b[1m55/55\u001b[0m \u001b[32m━━━━━━━━━━━━━━━━━━━━\u001b[0m\u001b[37m\u001b[0m \u001b[1m1s\u001b[0m 15ms/step - accuracy: 0.9813 - loss: 0.0698 - val_accuracy: 0.7765 - val_loss: 0.7057\n",
            "Epoch 32/50\n",
            "\u001b[1m55/55\u001b[0m \u001b[32m━━━━━━━━━━━━━━━━━━━━\u001b[0m\u001b[37m\u001b[0m \u001b[1m1s\u001b[0m 17ms/step - accuracy: 0.9781 - loss: 0.0652 - val_accuracy: 0.8203 - val_loss: 0.5331\n",
            "Epoch 33/50\n",
            "\u001b[1m55/55\u001b[0m \u001b[32m━━━━━━━━━━━━━━━━━━━━\u001b[0m\u001b[37m\u001b[0m \u001b[1m1s\u001b[0m 15ms/step - accuracy: 0.9794 - loss: 0.0762 - val_accuracy: 0.8180 - val_loss: 0.6567\n",
            "Epoch 34/50\n",
            "\u001b[1m55/55\u001b[0m \u001b[32m━━━━━━━━━━━━━━━━━━━━\u001b[0m\u001b[37m\u001b[0m \u001b[1m1s\u001b[0m 16ms/step - accuracy: 0.9795 - loss: 0.0625 - val_accuracy: 0.7212 - val_loss: 0.9925\n",
            "Epoch 35/50\n",
            "\u001b[1m55/55\u001b[0m \u001b[32m━━━━━━━━━━━━━━━━━━━━\u001b[0m\u001b[37m\u001b[0m \u001b[1m1s\u001b[0m 18ms/step - accuracy: 0.9572 - loss: 0.1334 - val_accuracy: 0.8548 - val_loss: 0.3910\n",
            "Epoch 36/50\n",
            "\u001b[1m55/55\u001b[0m \u001b[32m━━━━━━━━━━━━━━━━━━━━\u001b[0m\u001b[37m\u001b[0m \u001b[1m1s\u001b[0m 9ms/step - accuracy: 0.9789 - loss: 0.0572 - val_accuracy: 0.8802 - val_loss: 0.3536\n",
            "Epoch 37/50\n",
            "\u001b[1m55/55\u001b[0m \u001b[32m━━━━━━━━━━━━━━━━━━━━\u001b[0m\u001b[37m\u001b[0m \u001b[1m1s\u001b[0m 9ms/step - accuracy: 0.9824 - loss: 0.0642 - val_accuracy: 0.8733 - val_loss: 0.3815\n"
          ]
        }
      ]
    },
    {
      "cell_type": "code",
      "source": [
        "X_test_padded = pad_sequences(X_test, padding='post', maxlen=500)\n",
        "test_accuracy = model.evaluate(X_test_padded, y_test)\n",
        "print(f\"Test Accuracy with Early Stopping: {test_accuracy[1] * 100:.2f}%\")"
      ],
      "metadata": {
        "colab": {
          "base_uri": "https://localhost:8080/"
        },
        "id": "6Cdrs-waGdlO",
        "outputId": "5a4c2e5d-cbce-4e76-c672-d5c4d8f6fa0e"
      },
      "execution_count": null,
      "outputs": [
        {
          "output_type": "stream",
          "name": "stdout",
          "text": [
            "\u001b[1m13/13\u001b[0m \u001b[32m━━━━━━━━━━━━━━━━━━━━\u001b[0m\u001b[37m\u001b[0m \u001b[1m0s\u001b[0m 3ms/step - accuracy: 0.6009 - loss: 1.7916 \n",
            "Test Accuracy with Early Stopping: 57.50%\n"
          ]
        }
      ]
    }
  ]
}